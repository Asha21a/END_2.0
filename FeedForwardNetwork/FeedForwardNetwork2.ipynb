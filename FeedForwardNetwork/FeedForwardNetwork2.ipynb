{
  "nbformat": 4,
  "nbformat_minor": 0,
  "metadata": {
    "colab": {
      "name": "FeedForwardNetwork2.ipynb",
      "provenance": [],
      "collapsed_sections": []
    },
    "kernelspec": {
      "name": "python3",
      "display_name": "Python 3"
    },
    "language_info": {
      "name": "python"
    }
  },
  "cells": [
    {
      "cell_type": "code",
      "metadata": {
        "colab": {
          "base_uri": "https://localhost:8080/"
        },
        "id": "VaqrbQmkI0QJ",
        "outputId": "efc23a53-df3a-44f3-8e71-f0ce1865aeee"
      },
      "source": [
        "import torch\n",
        "from torch.autograd import Variable\n",
        "import torch.nn as nn\n",
        "import torch.nn.functional as F\n",
        "import torch.optim as optim\n",
        "import numpy as np\n",
        "import matplotlib.pyplot as plt\n",
        "%matplotlib inline\n",
        "torch.manual_seed(2)"
      ],
      "execution_count": 41,
      "outputs": [
        {
          "output_type": "execute_result",
          "data": {
            "text/plain": [
              "<torch._C.Generator at 0x7ff2709828d0>"
            ]
          },
          "metadata": {
            "tags": []
          },
          "execution_count": 41
        }
      ]
    },
    {
      "cell_type": "code",
      "metadata": {
        "id": "Whz34dD_I6QO"
      },
      "source": [
        "X = torch.Tensor([[0,0], [0,1], [1,0], [1,1]])\n",
        "Y = torch.Tensor([0, 0, 0, 1]).view(-1,1)"
      ],
      "execution_count": 42,
      "outputs": []
    },
    {
      "cell_type": "code",
      "metadata": {
        "id": "5UfLnuYpI9M8"
      },
      "source": [
        "class XAND(nn.Module):\n",
        "    def __init__(self, input_dim = 2, output_dim=1):\n",
        "        super(XAND, self).__init__()\n",
        "        self.lin1 = nn.Linear(input_dim, 7)\n",
        "        self.lin2 = nn.Linear(7, 2)\n",
        "        self.lin3 = nn.Linear(2, output_dim)\n",
        "    \n",
        "    def forward(self, x):\n",
        "        x = self.lin1(x)\n",
        "        x = F.tanh(x)\n",
        "        x = self.lin2(x)\n",
        "        x = F.tanh(x)\n",
        "        x = self.lin3(x)\n",
        "        return x"
      ],
      "execution_count": 43,
      "outputs": []
    },
    {
      "cell_type": "code",
      "metadata": {
        "colab": {
          "base_uri": "https://localhost:8080/"
        },
        "id": "O6keSDieJB1a",
        "outputId": "40a52b99-28ad-42bf-da88-b670fd521180"
      },
      "source": [
        "model = XAND()\n",
        "print(model)\n",
        "from torchsummary import summary\n",
        "summary(model, (2,2))"
      ],
      "execution_count": 44,
      "outputs": [
        {
          "output_type": "stream",
          "text": [
            "XAND(\n",
            "  (lin1): Linear(in_features=2, out_features=7, bias=True)\n",
            "  (lin2): Linear(in_features=7, out_features=2, bias=True)\n",
            "  (lin3): Linear(in_features=2, out_features=1, bias=True)\n",
            ")\n",
            "----------------------------------------------------------------\n",
            "        Layer (type)               Output Shape         Param #\n",
            "================================================================\n",
            "            Linear-1                 [-1, 2, 7]              21\n",
            "            Linear-2                 [-1, 2, 2]              16\n",
            "            Linear-3                 [-1, 2, 1]               3\n",
            "================================================================\n",
            "Total params: 40\n",
            "Trainable params: 40\n",
            "Non-trainable params: 0\n",
            "----------------------------------------------------------------\n",
            "Input size (MB): 0.00\n",
            "Forward/backward pass size (MB): 0.00\n",
            "Params size (MB): 0.00\n",
            "Estimated Total Size (MB): 0.00\n",
            "----------------------------------------------------------------\n"
          ],
          "name": "stdout"
        },
        {
          "output_type": "stream",
          "text": [
            "/usr/local/lib/python3.7/dist-packages/torch/nn/functional.py:1698: UserWarning: nn.functional.tanh is deprecated. Use torch.tanh instead.\n",
            "  warnings.warn(\"nn.functional.tanh is deprecated. Use torch.tanh instead.\")\n"
          ],
          "name": "stderr"
        }
      ]
    },
    {
      "cell_type": "code",
      "metadata": {
        "id": "Wnwb7QwzJFbQ"
      },
      "source": [
        "def weights_init(model):\n",
        "    for m in model.modules():\n",
        "        if isinstance(m, nn.Linear):\n",
        "            # initialize the weight tensor, here we use a normal distribution\n",
        "            m.weight.data.normal_(0, 1)\n",
        "\n",
        "weights_init(model)"
      ],
      "execution_count": 45,
      "outputs": []
    },
    {
      "cell_type": "code",
      "metadata": {
        "id": "ygkH4L8DJH92"
      },
      "source": [
        "loss_func = nn.L1Loss()"
      ],
      "execution_count": 46,
      "outputs": []
    },
    {
      "cell_type": "code",
      "metadata": {
        "id": "Ov-OMm2nJKRb"
      },
      "source": [
        "optimizer = optim.SGD(model.parameters(), lr=0.02, momentum=0.9)\n"
      ],
      "execution_count": 47,
      "outputs": []
    },
    {
      "cell_type": "code",
      "metadata": {
        "colab": {
          "base_uri": "https://localhost:8080/"
        },
        "id": "gY-13fS2JMyq",
        "outputId": "2f797c89-63b0-43c2-ce16-d76f0e8f5daa"
      },
      "source": [
        "epochs = 2001\n",
        "steps = X.size(0)\n",
        "for i in range(epochs):\n",
        "    for j in range(steps):\n",
        "        data_point = np.random.randint(X.size(0))\n",
        "        x_var = Variable(X[data_point], requires_grad=False)\n",
        "        y_var = Variable(Y[data_point], requires_grad=False)\n",
        "        \n",
        "        optimizer.zero_grad()\n",
        "        y_hat = model(x_var)\n",
        "        loss = loss_func.forward(y_hat, y_var)\n",
        "        loss.backward()\n",
        "        optimizer.step()\n",
        "        \n",
        "    if i % 50 == 0:\n",
        "        print( \"Epoch: {0}, Loss: {1}, \".format(i, loss.data.numpy()))"
      ],
      "execution_count": 48,
      "outputs": [
        {
          "output_type": "stream",
          "text": [
            "Epoch: 0, Loss: 0.7931326031684875, \n",
            "Epoch: 50, Loss: 0.007682204246520996, \n"
          ],
          "name": "stdout"
        },
        {
          "output_type": "stream",
          "text": [
            "/usr/local/lib/python3.7/dist-packages/torch/nn/functional.py:1698: UserWarning: nn.functional.tanh is deprecated. Use torch.tanh instead.\n",
            "  warnings.warn(\"nn.functional.tanh is deprecated. Use torch.tanh instead.\")\n"
          ],
          "name": "stderr"
        },
        {
          "output_type": "stream",
          "text": [
            "Epoch: 100, Loss: 0.0647716224193573, \n",
            "Epoch: 150, Loss: 0.16608721017837524, \n",
            "Epoch: 200, Loss: 0.011581182479858398, \n",
            "Epoch: 250, Loss: 0.1381911039352417, \n",
            "Epoch: 300, Loss: 0.06020355224609375, \n",
            "Epoch: 350, Loss: 0.05202394723892212, \n",
            "Epoch: 400, Loss: 0.32419368624687195, \n",
            "Epoch: 450, Loss: 0.048671841621398926, \n",
            "Epoch: 500, Loss: 0.10770556330680847, \n",
            "Epoch: 550, Loss: 0.07075119018554688, \n",
            "Epoch: 600, Loss: 0.04605165123939514, \n",
            "Epoch: 650, Loss: 0.06397014856338501, \n",
            "Epoch: 700, Loss: 0.1989140510559082, \n",
            "Epoch: 750, Loss: 0.01882350444793701, \n",
            "Epoch: 800, Loss: 0.12442520260810852, \n",
            "Epoch: 850, Loss: 0.04364168643951416, \n",
            "Epoch: 900, Loss: 0.2355109453201294, \n",
            "Epoch: 950, Loss: 0.010835647583007812, \n",
            "Epoch: 1000, Loss: 0.13709622621536255, \n",
            "Epoch: 1050, Loss: 0.012476205825805664, \n",
            "Epoch: 1100, Loss: 0.0015230178833007812, \n",
            "Epoch: 1150, Loss: 0.17618252336978912, \n",
            "Epoch: 1200, Loss: 0.16053983569145203, \n",
            "Epoch: 1250, Loss: 0.05522400140762329, \n",
            "Epoch: 1300, Loss: 0.04499247670173645, \n",
            "Epoch: 1350, Loss: 0.020719051361083984, \n",
            "Epoch: 1400, Loss: 0.14717018604278564, \n",
            "Epoch: 1450, Loss: 0.0023719072341918945, \n",
            "Epoch: 1500, Loss: 0.07118630409240723, \n",
            "Epoch: 1550, Loss: 0.008826524019241333, \n",
            "Epoch: 1600, Loss: 0.046313315629959106, \n",
            "Epoch: 1650, Loss: 0.08301350474357605, \n",
            "Epoch: 1700, Loss: 0.5668236017227173, \n",
            "Epoch: 1750, Loss: 0.01192563772201538, \n",
            "Epoch: 1800, Loss: 0.09075838327407837, \n",
            "Epoch: 1850, Loss: 0.053511857986450195, \n",
            "Epoch: 1900, Loss: 0.36357545852661133, \n",
            "Epoch: 1950, Loss: 0.011378347873687744, \n",
            "Epoch: 2000, Loss: 0.0896548330783844, \n"
          ],
          "name": "stdout"
        }
      ]
    }
  ]
}