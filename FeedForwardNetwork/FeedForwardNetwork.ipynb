{
  "nbformat": 4,
  "nbformat_minor": 0,
  "metadata": {
    "colab": {
      "name": "END2.0 Session1 - Assignment.ipynb",
      "provenance": [],
      "collapsed_sections": []
    },
    "kernelspec": {
      "name": "python3",
      "display_name": "Python 3"
    },
    "language_info": {
      "name": "python"
    }
  },
  "cells": [
    {
      "cell_type": "code",
      "metadata": {
        "colab": {
          "base_uri": "https://localhost:8080/"
        },
        "id": "VaqrbQmkI0QJ",
        "outputId": "22abcabb-7131-439b-d318-a75c17dbc10d"
      },
      "source": [
        "import torch\n",
        "from torch.autograd import Variable\n",
        "import torch.nn as nn\n",
        "import torch.nn.functional as F\n",
        "import torch.optim as optim\n",
        "import numpy as np\n",
        "import matplotlib.pyplot as plt\n",
        "%matplotlib inline\n",
        "torch.manual_seed(2)"
      ],
      "execution_count": null,
      "outputs": [
        {
          "output_type": "execute_result",
          "data": {
            "text/plain": [
              "<torch._C.Generator at 0x7f6d76b9d8d0>"
            ]
          },
          "metadata": {
            "tags": []
          },
          "execution_count": 119
        }
      ]
    },
    {
      "cell_type": "code",
      "metadata": {
        "id": "Whz34dD_I6QO"
      },
      "source": [
        "X = torch.Tensor([[0,0], [0,1], [1,0], [1,1]])\n",
        "Y = torch.Tensor([0, 1, 1, 0]).view(-1,1)"
      ],
      "execution_count": null,
      "outputs": []
    },
    {
      "cell_type": "code",
      "metadata": {
        "id": "5UfLnuYpI9M8"
      },
      "source": [
        "class XOR(nn.Module):\n",
        "    def __init__(self, input_dim = 2, output_dim=1):\n",
        "        super(XOR, self).__init__()\n",
        "        self.lin1 = nn.Linear(input_dim, 5)\n",
        "        self.lin2 = nn.Linear(5, 4)\n",
        "        self.lin3 = nn.Linear(4, output_dim)\n",
        "    \n",
        "    def forward(self, x):\n",
        "        x = self.lin1(x)\n",
        "        x = F.tanh(x)\n",
        "        x = self.lin2(x)\n",
        "        x = F.tanh(x)\n",
        "        x = self.lin3(x)\n",
        "        return x"
      ],
      "execution_count": null,
      "outputs": []
    },
    {
      "cell_type": "code",
      "metadata": {
        "colab": {
          "base_uri": "https://localhost:8080/"
        },
        "id": "O6keSDieJB1a",
        "outputId": "c8977d07-82e9-45e9-e8b5-a7a1118d7a7e"
      },
      "source": [
        "model = XOR()\n",
        "print(model)\n",
        "from torchsummary import summary\n",
        "summary(model, (2,2))"
      ],
      "execution_count": null,
      "outputs": [
        {
          "output_type": "stream",
          "text": [
            "XOR(\n",
            "  (lin1): Linear(in_features=2, out_features=5, bias=True)\n",
            "  (lin2): Linear(in_features=5, out_features=4, bias=True)\n",
            "  (lin3): Linear(in_features=4, out_features=1, bias=True)\n",
            ")\n",
            "----------------------------------------------------------------\n",
            "        Layer (type)               Output Shape         Param #\n",
            "================================================================\n",
            "            Linear-1                 [-1, 2, 5]              15\n",
            "            Linear-2                 [-1, 2, 4]              24\n",
            "            Linear-3                 [-1, 2, 1]               5\n",
            "================================================================\n",
            "Total params: 44\n",
            "Trainable params: 44\n",
            "Non-trainable params: 0\n",
            "----------------------------------------------------------------\n",
            "Input size (MB): 0.00\n",
            "Forward/backward pass size (MB): 0.00\n",
            "Params size (MB): 0.00\n",
            "Estimated Total Size (MB): 0.00\n",
            "----------------------------------------------------------------\n"
          ],
          "name": "stdout"
        },
        {
          "output_type": "stream",
          "text": [
            "/usr/local/lib/python3.7/dist-packages/torch/nn/functional.py:1698: UserWarning: nn.functional.tanh is deprecated. Use torch.tanh instead.\n",
            "  warnings.warn(\"nn.functional.tanh is deprecated. Use torch.tanh instead.\")\n"
          ],
          "name": "stderr"
        }
      ]
    },
    {
      "cell_type": "code",
      "metadata": {
        "id": "Wnwb7QwzJFbQ"
      },
      "source": [
        "def weights_init(model):\n",
        "    for m in model.modules():\n",
        "        if isinstance(m, nn.Linear):\n",
        "            # initialize the weight tensor, here we use a normal distribution\n",
        "            m.weight.data.normal_(0, 1)\n",
        "\n",
        "weights_init(model)"
      ],
      "execution_count": null,
      "outputs": []
    },
    {
      "cell_type": "code",
      "metadata": {
        "id": "ygkH4L8DJH92"
      },
      "source": [
        "loss_func = nn.L1Loss()"
      ],
      "execution_count": null,
      "outputs": []
    },
    {
      "cell_type": "code",
      "metadata": {
        "id": "Ov-OMm2nJKRb"
      },
      "source": [
        "optimizer = optim.SGD(model.parameters(), lr=0.02, momentum=0.9)\n"
      ],
      "execution_count": null,
      "outputs": []
    },
    {
      "cell_type": "code",
      "metadata": {
        "colab": {
          "base_uri": "https://localhost:8080/"
        },
        "id": "gY-13fS2JMyq",
        "outputId": "e11324d1-2562-45d2-dd82-7b529ea3aff2"
      },
      "source": [
        "epochs = 2001\n",
        "steps = X.size(0)\n",
        "for i in range(epochs):\n",
        "    for j in range(steps):\n",
        "        data_point = np.random.randint(X.size(0))\n",
        "        x_var = Variable(X[data_point], requires_grad=False)\n",
        "        y_var = Variable(Y[data_point], requires_grad=False)\n",
        "        \n",
        "        optimizer.zero_grad()\n",
        "        y_hat = model(x_var)\n",
        "        loss = loss_func.forward(y_hat, y_var)\n",
        "        loss.backward()\n",
        "        optimizer.step()\n",
        "        \n",
        "    if i % 50 == 0:\n",
        "        print( \"Epoch: {0}, Loss: {1}, \".format(i, loss.data.numpy()))"
      ],
      "execution_count": null,
      "outputs": [
        {
          "output_type": "stream",
          "text": [
            "Epoch: 0, Loss: 1.2178391218185425, \n",
            "Epoch: 50, Loss: 0.0552980899810791, \n"
          ],
          "name": "stdout"
        },
        {
          "output_type": "stream",
          "text": [
            "/usr/local/lib/python3.7/dist-packages/torch/nn/functional.py:1698: UserWarning: nn.functional.tanh is deprecated. Use torch.tanh instead.\n",
            "  warnings.warn(\"nn.functional.tanh is deprecated. Use torch.tanh instead.\")\n"
          ],
          "name": "stderr"
        },
        {
          "output_type": "stream",
          "text": [
            "Epoch: 100, Loss: 0.0643383264541626, \n",
            "Epoch: 150, Loss: 0.280442476272583, \n",
            "Epoch: 200, Loss: 0.1734619140625, \n",
            "Epoch: 250, Loss: 0.2555704712867737, \n",
            "Epoch: 300, Loss: 0.10594505071640015, \n",
            "Epoch: 350, Loss: 0.36977362632751465, \n",
            "Epoch: 400, Loss: 0.5278993844985962, \n",
            "Epoch: 450, Loss: 1.005847454071045, \n",
            "Epoch: 500, Loss: 0.08131802082061768, \n",
            "Epoch: 550, Loss: 0.09721255302429199, \n",
            "Epoch: 600, Loss: 0.02284330129623413, \n",
            "Epoch: 650, Loss: 0.15060198307037354, \n",
            "Epoch: 700, Loss: 0.3057396411895752, \n",
            "Epoch: 750, Loss: 0.19487273693084717, \n",
            "Epoch: 800, Loss: 0.04872846603393555, \n",
            "Epoch: 850, Loss: 0.013499021530151367, \n",
            "Epoch: 900, Loss: 0.24305206537246704, \n",
            "Epoch: 950, Loss: 0.2252933382987976, \n",
            "Epoch: 1000, Loss: 0.3386306166648865, \n",
            "Epoch: 1050, Loss: 0.16704553365707397, \n",
            "Epoch: 1100, Loss: 0.16345316171646118, \n",
            "Epoch: 1150, Loss: 0.15035182237625122, \n",
            "Epoch: 1200, Loss: 0.2395957112312317, \n",
            "Epoch: 1250, Loss: 0.01654064655303955, \n",
            "Epoch: 1300, Loss: 0.04322195053100586, \n",
            "Epoch: 1350, Loss: 0.00038242340087890625, \n",
            "Epoch: 1400, Loss: 0.09164953231811523, \n",
            "Epoch: 1450, Loss: 0.19731390476226807, \n",
            "Epoch: 1500, Loss: 0.24289625883102417, \n",
            "Epoch: 1550, Loss: 0.10751712322235107, \n",
            "Epoch: 1600, Loss: 0.19491374492645264, \n",
            "Epoch: 1650, Loss: 0.011633634567260742, \n",
            "Epoch: 1700, Loss: 0.2353280782699585, \n",
            "Epoch: 1750, Loss: 0.26207423210144043, \n",
            "Epoch: 1800, Loss: 0.2854801416397095, \n",
            "Epoch: 1850, Loss: 0.24968373775482178, \n",
            "Epoch: 1900, Loss: 0.04473769664764404, \n",
            "Epoch: 1950, Loss: 0.0739966630935669, \n",
            "Epoch: 2000, Loss: 0.19865059852600098, \n"
          ],
          "name": "stdout"
        }
      ]
    }
  ]
}