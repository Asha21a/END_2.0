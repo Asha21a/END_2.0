{
  "nbformat": 4,
  "nbformat_minor": 0,
  "metadata": {
    "colab": {
      "name": "PyTorch-1.ipynb",
      "provenance": []
    },
    "kernelspec": {
      "name": "python3",
      "display_name": "Python 3"
    },
    "language_info": {
      "name": "python"
    },
    "accelerator": "GPU",
    "widgets": {
      "application/vnd.jupyter.widget-state+json": {
        "75d0baddb7ba497d9aa39f6d8ee59bc8": {
          "model_module": "@jupyter-widgets/controls",
          "model_name": "HBoxModel",
          "state": {
            "_view_name": "HBoxView",
            "_dom_classes": [],
            "_model_name": "HBoxModel",
            "_view_module": "@jupyter-widgets/controls",
            "_model_module_version": "1.5.0",
            "_view_count": null,
            "_view_module_version": "1.5.0",
            "box_style": "",
            "layout": "IPY_MODEL_0e6779287a484047b2e54e6492c838a8",
            "_model_module": "@jupyter-widgets/controls",
            "children": [
              "IPY_MODEL_24d415a1b6814391905d5cb0db3dcec3",
              "IPY_MODEL_067fcd3ce1ca4cdfbcece35da1342c39"
            ]
          }
        },
        "0e6779287a484047b2e54e6492c838a8": {
          "model_module": "@jupyter-widgets/base",
          "model_name": "LayoutModel",
          "state": {
            "_view_name": "LayoutView",
            "grid_template_rows": null,
            "right": null,
            "justify_content": null,
            "_view_module": "@jupyter-widgets/base",
            "overflow": null,
            "_model_module_version": "1.2.0",
            "_view_count": null,
            "flex_flow": null,
            "width": null,
            "min_width": null,
            "border": null,
            "align_items": null,
            "bottom": null,
            "_model_module": "@jupyter-widgets/base",
            "top": null,
            "grid_column": null,
            "overflow_y": null,
            "overflow_x": null,
            "grid_auto_flow": null,
            "grid_area": null,
            "grid_template_columns": null,
            "flex": null,
            "_model_name": "LayoutModel",
            "justify_items": null,
            "grid_row": null,
            "max_height": null,
            "align_content": null,
            "visibility": null,
            "align_self": null,
            "height": null,
            "min_height": null,
            "padding": null,
            "grid_auto_rows": null,
            "grid_gap": null,
            "max_width": null,
            "order": null,
            "_view_module_version": "1.2.0",
            "grid_template_areas": null,
            "object_position": null,
            "object_fit": null,
            "grid_auto_columns": null,
            "margin": null,
            "display": null,
            "left": null
          }
        },
        "24d415a1b6814391905d5cb0db3dcec3": {
          "model_module": "@jupyter-widgets/controls",
          "model_name": "FloatProgressModel",
          "state": {
            "_view_name": "ProgressView",
            "style": "IPY_MODEL_911cc0a14cff410195766fa6c569c552",
            "_dom_classes": [],
            "description": "",
            "_model_name": "FloatProgressModel",
            "bar_style": "success",
            "max": 9912422,
            "_view_module": "@jupyter-widgets/controls",
            "_model_module_version": "1.5.0",
            "value": 9912422,
            "_view_count": null,
            "_view_module_version": "1.5.0",
            "orientation": "horizontal",
            "min": 0,
            "description_tooltip": null,
            "_model_module": "@jupyter-widgets/controls",
            "layout": "IPY_MODEL_4fcc6d09941f4f95958eec6408238704"
          }
        },
        "067fcd3ce1ca4cdfbcece35da1342c39": {
          "model_module": "@jupyter-widgets/controls",
          "model_name": "HTMLModel",
          "state": {
            "_view_name": "HTMLView",
            "style": "IPY_MODEL_5cf2d651790e4d62a475fb0368ee2a02",
            "_dom_classes": [],
            "description": "",
            "_model_name": "HTMLModel",
            "placeholder": "​",
            "_view_module": "@jupyter-widgets/controls",
            "_model_module_version": "1.5.0",
            "value": " 9913344/? [09:59&lt;00:00, 16536.02it/s]",
            "_view_count": null,
            "_view_module_version": "1.5.0",
            "description_tooltip": null,
            "_model_module": "@jupyter-widgets/controls",
            "layout": "IPY_MODEL_cd3ac113f7b14818babfb261549bd2a6"
          }
        },
        "911cc0a14cff410195766fa6c569c552": {
          "model_module": "@jupyter-widgets/controls",
          "model_name": "ProgressStyleModel",
          "state": {
            "_view_name": "StyleView",
            "_model_name": "ProgressStyleModel",
            "description_width": "initial",
            "_view_module": "@jupyter-widgets/base",
            "_model_module_version": "1.5.0",
            "_view_count": null,
            "_view_module_version": "1.2.0",
            "bar_color": null,
            "_model_module": "@jupyter-widgets/controls"
          }
        },
        "4fcc6d09941f4f95958eec6408238704": {
          "model_module": "@jupyter-widgets/base",
          "model_name": "LayoutModel",
          "state": {
            "_view_name": "LayoutView",
            "grid_template_rows": null,
            "right": null,
            "justify_content": null,
            "_view_module": "@jupyter-widgets/base",
            "overflow": null,
            "_model_module_version": "1.2.0",
            "_view_count": null,
            "flex_flow": null,
            "width": null,
            "min_width": null,
            "border": null,
            "align_items": null,
            "bottom": null,
            "_model_module": "@jupyter-widgets/base",
            "top": null,
            "grid_column": null,
            "overflow_y": null,
            "overflow_x": null,
            "grid_auto_flow": null,
            "grid_area": null,
            "grid_template_columns": null,
            "flex": null,
            "_model_name": "LayoutModel",
            "justify_items": null,
            "grid_row": null,
            "max_height": null,
            "align_content": null,
            "visibility": null,
            "align_self": null,
            "height": null,
            "min_height": null,
            "padding": null,
            "grid_auto_rows": null,
            "grid_gap": null,
            "max_width": null,
            "order": null,
            "_view_module_version": "1.2.0",
            "grid_template_areas": null,
            "object_position": null,
            "object_fit": null,
            "grid_auto_columns": null,
            "margin": null,
            "display": null,
            "left": null
          }
        },
        "5cf2d651790e4d62a475fb0368ee2a02": {
          "model_module": "@jupyter-widgets/controls",
          "model_name": "DescriptionStyleModel",
          "state": {
            "_view_name": "StyleView",
            "_model_name": "DescriptionStyleModel",
            "description_width": "",
            "_view_module": "@jupyter-widgets/base",
            "_model_module_version": "1.5.0",
            "_view_count": null,
            "_view_module_version": "1.2.0",
            "_model_module": "@jupyter-widgets/controls"
          }
        },
        "cd3ac113f7b14818babfb261549bd2a6": {
          "model_module": "@jupyter-widgets/base",
          "model_name": "LayoutModel",
          "state": {
            "_view_name": "LayoutView",
            "grid_template_rows": null,
            "right": null,
            "justify_content": null,
            "_view_module": "@jupyter-widgets/base",
            "overflow": null,
            "_model_module_version": "1.2.0",
            "_view_count": null,
            "flex_flow": null,
            "width": null,
            "min_width": null,
            "border": null,
            "align_items": null,
            "bottom": null,
            "_model_module": "@jupyter-widgets/base",
            "top": null,
            "grid_column": null,
            "overflow_y": null,
            "overflow_x": null,
            "grid_auto_flow": null,
            "grid_area": null,
            "grid_template_columns": null,
            "flex": null,
            "_model_name": "LayoutModel",
            "justify_items": null,
            "grid_row": null,
            "max_height": null,
            "align_content": null,
            "visibility": null,
            "align_self": null,
            "height": null,
            "min_height": null,
            "padding": null,
            "grid_auto_rows": null,
            "grid_gap": null,
            "max_width": null,
            "order": null,
            "_view_module_version": "1.2.0",
            "grid_template_areas": null,
            "object_position": null,
            "object_fit": null,
            "grid_auto_columns": null,
            "margin": null,
            "display": null,
            "left": null
          }
        },
        "749946509a174a7787aabe8460c3034a": {
          "model_module": "@jupyter-widgets/controls",
          "model_name": "HBoxModel",
          "state": {
            "_view_name": "HBoxView",
            "_dom_classes": [],
            "_model_name": "HBoxModel",
            "_view_module": "@jupyter-widgets/controls",
            "_model_module_version": "1.5.0",
            "_view_count": null,
            "_view_module_version": "1.5.0",
            "box_style": "",
            "layout": "IPY_MODEL_9ff18b6c430a4c87b0032d73e69cd474",
            "_model_module": "@jupyter-widgets/controls",
            "children": [
              "IPY_MODEL_9bbbd476a94a41b591e43addf6cce40e",
              "IPY_MODEL_b059a746c852492797cfdf0f7edf6918"
            ]
          }
        },
        "9ff18b6c430a4c87b0032d73e69cd474": {
          "model_module": "@jupyter-widgets/base",
          "model_name": "LayoutModel",
          "state": {
            "_view_name": "LayoutView",
            "grid_template_rows": null,
            "right": null,
            "justify_content": null,
            "_view_module": "@jupyter-widgets/base",
            "overflow": null,
            "_model_module_version": "1.2.0",
            "_view_count": null,
            "flex_flow": null,
            "width": null,
            "min_width": null,
            "border": null,
            "align_items": null,
            "bottom": null,
            "_model_module": "@jupyter-widgets/base",
            "top": null,
            "grid_column": null,
            "overflow_y": null,
            "overflow_x": null,
            "grid_auto_flow": null,
            "grid_area": null,
            "grid_template_columns": null,
            "flex": null,
            "_model_name": "LayoutModel",
            "justify_items": null,
            "grid_row": null,
            "max_height": null,
            "align_content": null,
            "visibility": null,
            "align_self": null,
            "height": null,
            "min_height": null,
            "padding": null,
            "grid_auto_rows": null,
            "grid_gap": null,
            "max_width": null,
            "order": null,
            "_view_module_version": "1.2.0",
            "grid_template_areas": null,
            "object_position": null,
            "object_fit": null,
            "grid_auto_columns": null,
            "margin": null,
            "display": null,
            "left": null
          }
        },
        "9bbbd476a94a41b591e43addf6cce40e": {
          "model_module": "@jupyter-widgets/controls",
          "model_name": "FloatProgressModel",
          "state": {
            "_view_name": "ProgressView",
            "style": "IPY_MODEL_3af5eee8f45040c6952ba96e5e92e609",
            "_dom_classes": [],
            "description": "",
            "_model_name": "FloatProgressModel",
            "bar_style": "success",
            "max": 28881,
            "_view_module": "@jupyter-widgets/controls",
            "_model_module_version": "1.5.0",
            "value": 28881,
            "_view_count": null,
            "_view_module_version": "1.5.0",
            "orientation": "horizontal",
            "min": 0,
            "description_tooltip": null,
            "_model_module": "@jupyter-widgets/controls",
            "layout": "IPY_MODEL_2b4f250fcea6417da893b2ce033574d8"
          }
        },
        "b059a746c852492797cfdf0f7edf6918": {
          "model_module": "@jupyter-widgets/controls",
          "model_name": "HTMLModel",
          "state": {
            "_view_name": "HTMLView",
            "style": "IPY_MODEL_da86705d372e409ebd581b171daefaee",
            "_dom_classes": [],
            "description": "",
            "_model_name": "HTMLModel",
            "placeholder": "​",
            "_view_module": "@jupyter-widgets/controls",
            "_model_module_version": "1.5.0",
            "value": " 29696/? [00:00&lt;00:00, 66340.06it/s]",
            "_view_count": null,
            "_view_module_version": "1.5.0",
            "description_tooltip": null,
            "_model_module": "@jupyter-widgets/controls",
            "layout": "IPY_MODEL_67903d27d4f94a5e9a3e28ea527f256c"
          }
        },
        "3af5eee8f45040c6952ba96e5e92e609": {
          "model_module": "@jupyter-widgets/controls",
          "model_name": "ProgressStyleModel",
          "state": {
            "_view_name": "StyleView",
            "_model_name": "ProgressStyleModel",
            "description_width": "initial",
            "_view_module": "@jupyter-widgets/base",
            "_model_module_version": "1.5.0",
            "_view_count": null,
            "_view_module_version": "1.2.0",
            "bar_color": null,
            "_model_module": "@jupyter-widgets/controls"
          }
        },
        "2b4f250fcea6417da893b2ce033574d8": {
          "model_module": "@jupyter-widgets/base",
          "model_name": "LayoutModel",
          "state": {
            "_view_name": "LayoutView",
            "grid_template_rows": null,
            "right": null,
            "justify_content": null,
            "_view_module": "@jupyter-widgets/base",
            "overflow": null,
            "_model_module_version": "1.2.0",
            "_view_count": null,
            "flex_flow": null,
            "width": null,
            "min_width": null,
            "border": null,
            "align_items": null,
            "bottom": null,
            "_model_module": "@jupyter-widgets/base",
            "top": null,
            "grid_column": null,
            "overflow_y": null,
            "overflow_x": null,
            "grid_auto_flow": null,
            "grid_area": null,
            "grid_template_columns": null,
            "flex": null,
            "_model_name": "LayoutModel",
            "justify_items": null,
            "grid_row": null,
            "max_height": null,
            "align_content": null,
            "visibility": null,
            "align_self": null,
            "height": null,
            "min_height": null,
            "padding": null,
            "grid_auto_rows": null,
            "grid_gap": null,
            "max_width": null,
            "order": null,
            "_view_module_version": "1.2.0",
            "grid_template_areas": null,
            "object_position": null,
            "object_fit": null,
            "grid_auto_columns": null,
            "margin": null,
            "display": null,
            "left": null
          }
        },
        "da86705d372e409ebd581b171daefaee": {
          "model_module": "@jupyter-widgets/controls",
          "model_name": "DescriptionStyleModel",
          "state": {
            "_view_name": "StyleView",
            "_model_name": "DescriptionStyleModel",
            "description_width": "",
            "_view_module": "@jupyter-widgets/base",
            "_model_module_version": "1.5.0",
            "_view_count": null,
            "_view_module_version": "1.2.0",
            "_model_module": "@jupyter-widgets/controls"
          }
        },
        "67903d27d4f94a5e9a3e28ea527f256c": {
          "model_module": "@jupyter-widgets/base",
          "model_name": "LayoutModel",
          "state": {
            "_view_name": "LayoutView",
            "grid_template_rows": null,
            "right": null,
            "justify_content": null,
            "_view_module": "@jupyter-widgets/base",
            "overflow": null,
            "_model_module_version": "1.2.0",
            "_view_count": null,
            "flex_flow": null,
            "width": null,
            "min_width": null,
            "border": null,
            "align_items": null,
            "bottom": null,
            "_model_module": "@jupyter-widgets/base",
            "top": null,
            "grid_column": null,
            "overflow_y": null,
            "overflow_x": null,
            "grid_auto_flow": null,
            "grid_area": null,
            "grid_template_columns": null,
            "flex": null,
            "_model_name": "LayoutModel",
            "justify_items": null,
            "grid_row": null,
            "max_height": null,
            "align_content": null,
            "visibility": null,
            "align_self": null,
            "height": null,
            "min_height": null,
            "padding": null,
            "grid_auto_rows": null,
            "grid_gap": null,
            "max_width": null,
            "order": null,
            "_view_module_version": "1.2.0",
            "grid_template_areas": null,
            "object_position": null,
            "object_fit": null,
            "grid_auto_columns": null,
            "margin": null,
            "display": null,
            "left": null
          }
        },
        "766d8963983d4d09901edec12f315043": {
          "model_module": "@jupyter-widgets/controls",
          "model_name": "HBoxModel",
          "state": {
            "_view_name": "HBoxView",
            "_dom_classes": [],
            "_model_name": "HBoxModel",
            "_view_module": "@jupyter-widgets/controls",
            "_model_module_version": "1.5.0",
            "_view_count": null,
            "_view_module_version": "1.5.0",
            "box_style": "",
            "layout": "IPY_MODEL_ed88b3943494465f95eef8acb1721bd6",
            "_model_module": "@jupyter-widgets/controls",
            "children": [
              "IPY_MODEL_d339516ae6d04666840cf95d9baf575f",
              "IPY_MODEL_3408f3b133f141af880a1cd3c7ab2b58"
            ]
          }
        },
        "ed88b3943494465f95eef8acb1721bd6": {
          "model_module": "@jupyter-widgets/base",
          "model_name": "LayoutModel",
          "state": {
            "_view_name": "LayoutView",
            "grid_template_rows": null,
            "right": null,
            "justify_content": null,
            "_view_module": "@jupyter-widgets/base",
            "overflow": null,
            "_model_module_version": "1.2.0",
            "_view_count": null,
            "flex_flow": null,
            "width": null,
            "min_width": null,
            "border": null,
            "align_items": null,
            "bottom": null,
            "_model_module": "@jupyter-widgets/base",
            "top": null,
            "grid_column": null,
            "overflow_y": null,
            "overflow_x": null,
            "grid_auto_flow": null,
            "grid_area": null,
            "grid_template_columns": null,
            "flex": null,
            "_model_name": "LayoutModel",
            "justify_items": null,
            "grid_row": null,
            "max_height": null,
            "align_content": null,
            "visibility": null,
            "align_self": null,
            "height": null,
            "min_height": null,
            "padding": null,
            "grid_auto_rows": null,
            "grid_gap": null,
            "max_width": null,
            "order": null,
            "_view_module_version": "1.2.0",
            "grid_template_areas": null,
            "object_position": null,
            "object_fit": null,
            "grid_auto_columns": null,
            "margin": null,
            "display": null,
            "left": null
          }
        },
        "d339516ae6d04666840cf95d9baf575f": {
          "model_module": "@jupyter-widgets/controls",
          "model_name": "FloatProgressModel",
          "state": {
            "_view_name": "ProgressView",
            "style": "IPY_MODEL_ef5db6ec9d894326823264d2c7c6fcb0",
            "_dom_classes": [],
            "description": "",
            "_model_name": "FloatProgressModel",
            "bar_style": "success",
            "max": 1648877,
            "_view_module": "@jupyter-widgets/controls",
            "_model_module_version": "1.5.0",
            "value": 1648877,
            "_view_count": null,
            "_view_module_version": "1.5.0",
            "orientation": "horizontal",
            "min": 0,
            "description_tooltip": null,
            "_model_module": "@jupyter-widgets/controls",
            "layout": "IPY_MODEL_76c7a41bc4ad43e3b54e83dd294b6139"
          }
        },
        "3408f3b133f141af880a1cd3c7ab2b58": {
          "model_module": "@jupyter-widgets/controls",
          "model_name": "HTMLModel",
          "state": {
            "_view_name": "HTMLView",
            "style": "IPY_MODEL_9143a4c3f9904c6589536fe14e05fa23",
            "_dom_classes": [],
            "description": "",
            "_model_name": "HTMLModel",
            "placeholder": "​",
            "_view_module": "@jupyter-widgets/controls",
            "_model_module_version": "1.5.0",
            "value": " 1649664/? [05:01&lt;00:00, 5469.30it/s]",
            "_view_count": null,
            "_view_module_version": "1.5.0",
            "description_tooltip": null,
            "_model_module": "@jupyter-widgets/controls",
            "layout": "IPY_MODEL_6b1d16e72cd1498a97e967aba71071d1"
          }
        },
        "ef5db6ec9d894326823264d2c7c6fcb0": {
          "model_module": "@jupyter-widgets/controls",
          "model_name": "ProgressStyleModel",
          "state": {
            "_view_name": "StyleView",
            "_model_name": "ProgressStyleModel",
            "description_width": "initial",
            "_view_module": "@jupyter-widgets/base",
            "_model_module_version": "1.5.0",
            "_view_count": null,
            "_view_module_version": "1.2.0",
            "bar_color": null,
            "_model_module": "@jupyter-widgets/controls"
          }
        },
        "76c7a41bc4ad43e3b54e83dd294b6139": {
          "model_module": "@jupyter-widgets/base",
          "model_name": "LayoutModel",
          "state": {
            "_view_name": "LayoutView",
            "grid_template_rows": null,
            "right": null,
            "justify_content": null,
            "_view_module": "@jupyter-widgets/base",
            "overflow": null,
            "_model_module_version": "1.2.0",
            "_view_count": null,
            "flex_flow": null,
            "width": null,
            "min_width": null,
            "border": null,
            "align_items": null,
            "bottom": null,
            "_model_module": "@jupyter-widgets/base",
            "top": null,
            "grid_column": null,
            "overflow_y": null,
            "overflow_x": null,
            "grid_auto_flow": null,
            "grid_area": null,
            "grid_template_columns": null,
            "flex": null,
            "_model_name": "LayoutModel",
            "justify_items": null,
            "grid_row": null,
            "max_height": null,
            "align_content": null,
            "visibility": null,
            "align_self": null,
            "height": null,
            "min_height": null,
            "padding": null,
            "grid_auto_rows": null,
            "grid_gap": null,
            "max_width": null,
            "order": null,
            "_view_module_version": "1.2.0",
            "grid_template_areas": null,
            "object_position": null,
            "object_fit": null,
            "grid_auto_columns": null,
            "margin": null,
            "display": null,
            "left": null
          }
        },
        "9143a4c3f9904c6589536fe14e05fa23": {
          "model_module": "@jupyter-widgets/controls",
          "model_name": "DescriptionStyleModel",
          "state": {
            "_view_name": "StyleView",
            "_model_name": "DescriptionStyleModel",
            "description_width": "",
            "_view_module": "@jupyter-widgets/base",
            "_model_module_version": "1.5.0",
            "_view_count": null,
            "_view_module_version": "1.2.0",
            "_model_module": "@jupyter-widgets/controls"
          }
        },
        "6b1d16e72cd1498a97e967aba71071d1": {
          "model_module": "@jupyter-widgets/base",
          "model_name": "LayoutModel",
          "state": {
            "_view_name": "LayoutView",
            "grid_template_rows": null,
            "right": null,
            "justify_content": null,
            "_view_module": "@jupyter-widgets/base",
            "overflow": null,
            "_model_module_version": "1.2.0",
            "_view_count": null,
            "flex_flow": null,
            "width": null,
            "min_width": null,
            "border": null,
            "align_items": null,
            "bottom": null,
            "_model_module": "@jupyter-widgets/base",
            "top": null,
            "grid_column": null,
            "overflow_y": null,
            "overflow_x": null,
            "grid_auto_flow": null,
            "grid_area": null,
            "grid_template_columns": null,
            "flex": null,
            "_model_name": "LayoutModel",
            "justify_items": null,
            "grid_row": null,
            "max_height": null,
            "align_content": null,
            "visibility": null,
            "align_self": null,
            "height": null,
            "min_height": null,
            "padding": null,
            "grid_auto_rows": null,
            "grid_gap": null,
            "max_width": null,
            "order": null,
            "_view_module_version": "1.2.0",
            "grid_template_areas": null,
            "object_position": null,
            "object_fit": null,
            "grid_auto_columns": null,
            "margin": null,
            "display": null,
            "left": null
          }
        },
        "ed008a59793b4b7c9ef64f9fa3e841a6": {
          "model_module": "@jupyter-widgets/controls",
          "model_name": "HBoxModel",
          "state": {
            "_view_name": "HBoxView",
            "_dom_classes": [],
            "_model_name": "HBoxModel",
            "_view_module": "@jupyter-widgets/controls",
            "_model_module_version": "1.5.0",
            "_view_count": null,
            "_view_module_version": "1.5.0",
            "box_style": "",
            "layout": "IPY_MODEL_49a27abc43ed4d77aa385934f60f310b",
            "_model_module": "@jupyter-widgets/controls",
            "children": [
              "IPY_MODEL_c841ef7a447e429086ebe985801d20f7",
              "IPY_MODEL_f9e462e5f8bf4f9b968147fac7c4cc03"
            ]
          }
        },
        "49a27abc43ed4d77aa385934f60f310b": {
          "model_module": "@jupyter-widgets/base",
          "model_name": "LayoutModel",
          "state": {
            "_view_name": "LayoutView",
            "grid_template_rows": null,
            "right": null,
            "justify_content": null,
            "_view_module": "@jupyter-widgets/base",
            "overflow": null,
            "_model_module_version": "1.2.0",
            "_view_count": null,
            "flex_flow": null,
            "width": null,
            "min_width": null,
            "border": null,
            "align_items": null,
            "bottom": null,
            "_model_module": "@jupyter-widgets/base",
            "top": null,
            "grid_column": null,
            "overflow_y": null,
            "overflow_x": null,
            "grid_auto_flow": null,
            "grid_area": null,
            "grid_template_columns": null,
            "flex": null,
            "_model_name": "LayoutModel",
            "justify_items": null,
            "grid_row": null,
            "max_height": null,
            "align_content": null,
            "visibility": null,
            "align_self": null,
            "height": null,
            "min_height": null,
            "padding": null,
            "grid_auto_rows": null,
            "grid_gap": null,
            "max_width": null,
            "order": null,
            "_view_module_version": "1.2.0",
            "grid_template_areas": null,
            "object_position": null,
            "object_fit": null,
            "grid_auto_columns": null,
            "margin": null,
            "display": null,
            "left": null
          }
        },
        "c841ef7a447e429086ebe985801d20f7": {
          "model_module": "@jupyter-widgets/controls",
          "model_name": "FloatProgressModel",
          "state": {
            "_view_name": "ProgressView",
            "style": "IPY_MODEL_220340621bd24e37b41c92f3a1ee40cd",
            "_dom_classes": [],
            "description": "",
            "_model_name": "FloatProgressModel",
            "bar_style": "success",
            "max": 4542,
            "_view_module": "@jupyter-widgets/controls",
            "_model_module_version": "1.5.0",
            "value": 4542,
            "_view_count": null,
            "_view_module_version": "1.5.0",
            "orientation": "horizontal",
            "min": 0,
            "description_tooltip": null,
            "_model_module": "@jupyter-widgets/controls",
            "layout": "IPY_MODEL_0c17b6e654f544dabc63760938004083"
          }
        },
        "f9e462e5f8bf4f9b968147fac7c4cc03": {
          "model_module": "@jupyter-widgets/controls",
          "model_name": "HTMLModel",
          "state": {
            "_view_name": "HTMLView",
            "style": "IPY_MODEL_4d23860b2b9249e0bdf5b07c8d0f1c97",
            "_dom_classes": [],
            "description": "",
            "_model_name": "HTMLModel",
            "placeholder": "​",
            "_view_module": "@jupyter-widgets/controls",
            "_model_module_version": "1.5.0",
            "value": " 5120/? [00:00&lt;00:00, 20152.74it/s]",
            "_view_count": null,
            "_view_module_version": "1.5.0",
            "description_tooltip": null,
            "_model_module": "@jupyter-widgets/controls",
            "layout": "IPY_MODEL_d172c1c78c4245cbab7759bacc72c9d0"
          }
        },
        "220340621bd24e37b41c92f3a1ee40cd": {
          "model_module": "@jupyter-widgets/controls",
          "model_name": "ProgressStyleModel",
          "state": {
            "_view_name": "StyleView",
            "_model_name": "ProgressStyleModel",
            "description_width": "initial",
            "_view_module": "@jupyter-widgets/base",
            "_model_module_version": "1.5.0",
            "_view_count": null,
            "_view_module_version": "1.2.0",
            "bar_color": null,
            "_model_module": "@jupyter-widgets/controls"
          }
        },
        "0c17b6e654f544dabc63760938004083": {
          "model_module": "@jupyter-widgets/base",
          "model_name": "LayoutModel",
          "state": {
            "_view_name": "LayoutView",
            "grid_template_rows": null,
            "right": null,
            "justify_content": null,
            "_view_module": "@jupyter-widgets/base",
            "overflow": null,
            "_model_module_version": "1.2.0",
            "_view_count": null,
            "flex_flow": null,
            "width": null,
            "min_width": null,
            "border": null,
            "align_items": null,
            "bottom": null,
            "_model_module": "@jupyter-widgets/base",
            "top": null,
            "grid_column": null,
            "overflow_y": null,
            "overflow_x": null,
            "grid_auto_flow": null,
            "grid_area": null,
            "grid_template_columns": null,
            "flex": null,
            "_model_name": "LayoutModel",
            "justify_items": null,
            "grid_row": null,
            "max_height": null,
            "align_content": null,
            "visibility": null,
            "align_self": null,
            "height": null,
            "min_height": null,
            "padding": null,
            "grid_auto_rows": null,
            "grid_gap": null,
            "max_width": null,
            "order": null,
            "_view_module_version": "1.2.0",
            "grid_template_areas": null,
            "object_position": null,
            "object_fit": null,
            "grid_auto_columns": null,
            "margin": null,
            "display": null,
            "left": null
          }
        },
        "4d23860b2b9249e0bdf5b07c8d0f1c97": {
          "model_module": "@jupyter-widgets/controls",
          "model_name": "DescriptionStyleModel",
          "state": {
            "_view_name": "StyleView",
            "_model_name": "DescriptionStyleModel",
            "description_width": "",
            "_view_module": "@jupyter-widgets/base",
            "_model_module_version": "1.5.0",
            "_view_count": null,
            "_view_module_version": "1.2.0",
            "_model_module": "@jupyter-widgets/controls"
          }
        },
        "d172c1c78c4245cbab7759bacc72c9d0": {
          "model_module": "@jupyter-widgets/base",
          "model_name": "LayoutModel",
          "state": {
            "_view_name": "LayoutView",
            "grid_template_rows": null,
            "right": null,
            "justify_content": null,
            "_view_module": "@jupyter-widgets/base",
            "overflow": null,
            "_model_module_version": "1.2.0",
            "_view_count": null,
            "flex_flow": null,
            "width": null,
            "min_width": null,
            "border": null,
            "align_items": null,
            "bottom": null,
            "_model_module": "@jupyter-widgets/base",
            "top": null,
            "grid_column": null,
            "overflow_y": null,
            "overflow_x": null,
            "grid_auto_flow": null,
            "grid_area": null,
            "grid_template_columns": null,
            "flex": null,
            "_model_name": "LayoutModel",
            "justify_items": null,
            "grid_row": null,
            "max_height": null,
            "align_content": null,
            "visibility": null,
            "align_self": null,
            "height": null,
            "min_height": null,
            "padding": null,
            "grid_auto_rows": null,
            "grid_gap": null,
            "max_width": null,
            "order": null,
            "_view_module_version": "1.2.0",
            "grid_template_areas": null,
            "object_position": null,
            "object_fit": null,
            "grid_auto_columns": null,
            "margin": null,
            "display": null,
            "left": null
          }
        }
      }
    }
  },
  "cells": [
    {
      "cell_type": "code",
      "metadata": {
        "colab": {
          "base_uri": "https://localhost:8080/"
        },
        "id": "6SUyMDFrTxq5",
        "outputId": "aea8f65b-2f74-49bc-ddd1-ca78788fdb9c"
      },
      "source": [
        "import torch\n",
        "import torch.nn as nn\n",
        "import torch.nn.functional as F\n",
        "import torch.optim as optim\n",
        "\n",
        "import torchvision\n",
        "import torchvision.transforms as transforms\n",
        "\n",
        "torch.set_printoptions(linewidth=120)\n",
        "torch.set_grad_enabled(True) #ON by default"
      ],
      "execution_count": 4,
      "outputs": [
        {
          "output_type": "execute_result",
          "data": {
            "text/plain": [
              "<torch.autograd.grad_mode.set_grad_enabled at 0x7f3bf334c190>"
            ]
          },
          "metadata": {
            "tags": []
          },
          "execution_count": 4
        }
      ]
    },
    {
      "cell_type": "code",
      "metadata": {
        "colab": {
          "base_uri": "https://localhost:8080/"
        },
        "id": "JCAbGV4tT2qt",
        "outputId": "dc7ae46e-4e71-4f31-fb0f-ddaa54e4e90d"
      },
      "source": [
        "# Using GPU\n",
        "CUDA = torch.cuda.is_available()\n",
        "print(\"CUDA is available:\",CUDA)\n",
        "\n",
        "device = torch.device(\"cuda\" if CUDA else \"cpu\")\n",
        "print(device)\n",
        "\n",
        "print(torch.__version__)\n",
        "print(torchvision.__version__)"
      ],
      "execution_count": 5,
      "outputs": [
        {
          "output_type": "stream",
          "text": [
            "CUDA is available: True\n",
            "cuda\n",
            "1.8.1+cu101\n",
            "0.9.1+cu101\n"
          ],
          "name": "stdout"
        }
      ]
    },
    {
      "cell_type": "code",
      "metadata": {
        "id": "fSP6AZlCU5G_"
      },
      "source": [
        "# Function to get number of correct classifications\n",
        "def get_correct(preds, labels):\n",
        "  return preds.argmax(dim=1).eq(labels).sum().item()"
      ],
      "execution_count": 6,
      "outputs": []
    },
    {
      "cell_type": "code",
      "metadata": {
        "colab": {
          "base_uri": "https://localhost:8080/",
          "height": 719,
          "referenced_widgets": [
            "75d0baddb7ba497d9aa39f6d8ee59bc8",
            "0e6779287a484047b2e54e6492c838a8",
            "24d415a1b6814391905d5cb0db3dcec3",
            "067fcd3ce1ca4cdfbcece35da1342c39",
            "911cc0a14cff410195766fa6c569c552",
            "4fcc6d09941f4f95958eec6408238704",
            "5cf2d651790e4d62a475fb0368ee2a02",
            "cd3ac113f7b14818babfb261549bd2a6",
            "749946509a174a7787aabe8460c3034a",
            "9ff18b6c430a4c87b0032d73e69cd474",
            "9bbbd476a94a41b591e43addf6cce40e",
            "b059a746c852492797cfdf0f7edf6918",
            "3af5eee8f45040c6952ba96e5e92e609",
            "2b4f250fcea6417da893b2ce033574d8",
            "da86705d372e409ebd581b171daefaee",
            "67903d27d4f94a5e9a3e28ea527f256c",
            "766d8963983d4d09901edec12f315043",
            "ed88b3943494465f95eef8acb1721bd6",
            "d339516ae6d04666840cf95d9baf575f",
            "3408f3b133f141af880a1cd3c7ab2b58",
            "ef5db6ec9d894326823264d2c7c6fcb0",
            "76c7a41bc4ad43e3b54e83dd294b6139",
            "9143a4c3f9904c6589536fe14e05fa23",
            "6b1d16e72cd1498a97e967aba71071d1",
            "ed008a59793b4b7c9ef64f9fa3e841a6",
            "49a27abc43ed4d77aa385934f60f310b",
            "c841ef7a447e429086ebe985801d20f7",
            "f9e462e5f8bf4f9b968147fac7c4cc03",
            "220340621bd24e37b41c92f3a1ee40cd",
            "0c17b6e654f544dabc63760938004083",
            "4d23860b2b9249e0bdf5b07c8d0f1c97",
            "d172c1c78c4245cbab7759bacc72c9d0"
          ]
        },
        "id": "VRlWHBuxU7nG",
        "outputId": "96c07ce1-8a94-406c-bbd6-7e7f20d458e5"
      },
      "source": [
        "# Train Dataset for MNIST\n",
        "train_set = torchvision.datasets.MNIST(\n",
        "    root='./data/'\n",
        "    ,train=True\n",
        "    ,download=True\n",
        "    ,transform=transforms.Compose([\n",
        "                                    transforms.ToTensor()\n",
        "    ]) \n",
        ")\n",
        "\n",
        "# Test data set for MNIST\n",
        "test_set = torchvision.datasets.MNIST(\n",
        "    root='./data/'\n",
        "    ,train=False\n",
        "    ,download=True\n",
        "    ,transform=transforms.Compose([\n",
        "                                    transforms.ToTensor()\n",
        "    ]) \n",
        ")"
      ],
      "execution_count": 7,
      "outputs": [
        {
          "output_type": "stream",
          "text": [
            "Downloading http://yann.lecun.com/exdb/mnist/train-images-idx3-ubyte.gz\n",
            "Downloading http://yann.lecun.com/exdb/mnist/train-images-idx3-ubyte.gz to ./data/MNIST/raw/train-images-idx3-ubyte.gz\n"
          ],
          "name": "stdout"
        },
        {
          "output_type": "display_data",
          "data": {
            "application/vnd.jupyter.widget-view+json": {
              "model_id": "75d0baddb7ba497d9aa39f6d8ee59bc8",
              "version_minor": 0,
              "version_major": 2
            },
            "text/plain": [
              "HBox(children=(FloatProgress(value=0.0, max=9912422.0), HTML(value='')))"
            ]
          },
          "metadata": {
            "tags": []
          }
        },
        {
          "output_type": "stream",
          "text": [
            "\n",
            "Extracting ./data/MNIST/raw/train-images-idx3-ubyte.gz to ./data/MNIST/raw\n",
            "\n",
            "Downloading http://yann.lecun.com/exdb/mnist/train-labels-idx1-ubyte.gz\n",
            "Downloading http://yann.lecun.com/exdb/mnist/train-labels-idx1-ubyte.gz to ./data/MNIST/raw/train-labels-idx1-ubyte.gz\n"
          ],
          "name": "stdout"
        },
        {
          "output_type": "display_data",
          "data": {
            "application/vnd.jupyter.widget-view+json": {
              "model_id": "749946509a174a7787aabe8460c3034a",
              "version_minor": 0,
              "version_major": 2
            },
            "text/plain": [
              "HBox(children=(FloatProgress(value=0.0, max=28881.0), HTML(value='')))"
            ]
          },
          "metadata": {
            "tags": []
          }
        },
        {
          "output_type": "stream",
          "text": [
            "\n",
            "Extracting ./data/MNIST/raw/train-labels-idx1-ubyte.gz to ./data/MNIST/raw\n",
            "\n",
            "Downloading http://yann.lecun.com/exdb/mnist/t10k-images-idx3-ubyte.gz\n",
            "Downloading http://yann.lecun.com/exdb/mnist/t10k-images-idx3-ubyte.gz to ./data/MNIST/raw/t10k-images-idx3-ubyte.gz\n",
            "Failed to download (trying next):\n",
            "HTTP Error 503: Service Unavailable\n",
            "\n",
            "Downloading https://ossci-datasets.s3.amazonaws.com/mnist/t10k-images-idx3-ubyte.gz\n",
            "Downloading https://ossci-datasets.s3.amazonaws.com/mnist/t10k-images-idx3-ubyte.gz to ./data/MNIST/raw/t10k-images-idx3-ubyte.gz\n"
          ],
          "name": "stdout"
        },
        {
          "output_type": "display_data",
          "data": {
            "application/vnd.jupyter.widget-view+json": {
              "model_id": "766d8963983d4d09901edec12f315043",
              "version_minor": 0,
              "version_major": 2
            },
            "text/plain": [
              "HBox(children=(FloatProgress(value=0.0, max=1648877.0), HTML(value='')))"
            ]
          },
          "metadata": {
            "tags": []
          }
        },
        {
          "output_type": "stream",
          "text": [
            "\n",
            "Extracting ./data/MNIST/raw/t10k-images-idx3-ubyte.gz to ./data/MNIST/raw\n",
            "\n",
            "Downloading http://yann.lecun.com/exdb/mnist/t10k-labels-idx1-ubyte.gz\n",
            "Failed to download (trying next):\n",
            "HTTP Error 503: Service Unavailable\n",
            "\n",
            "Downloading https://ossci-datasets.s3.amazonaws.com/mnist/t10k-labels-idx1-ubyte.gz\n",
            "Downloading https://ossci-datasets.s3.amazonaws.com/mnist/t10k-labels-idx1-ubyte.gz to ./data/MNIST/raw/t10k-labels-idx1-ubyte.gz\n"
          ],
          "name": "stdout"
        },
        {
          "output_type": "display_data",
          "data": {
            "application/vnd.jupyter.widget-view+json": {
              "model_id": "ed008a59793b4b7c9ef64f9fa3e841a6",
              "version_minor": 0,
              "version_major": 2
            },
            "text/plain": [
              "HBox(children=(FloatProgress(value=0.0, max=4542.0), HTML(value='')))"
            ]
          },
          "metadata": {
            "tags": []
          }
        },
        {
          "output_type": "stream",
          "text": [
            "\n",
            "Extracting ./data/MNIST/raw/t10k-labels-idx1-ubyte.gz to ./data/MNIST/raw\n",
            "\n",
            "Processing...\n",
            "Done!\n"
          ],
          "name": "stdout"
        },
        {
          "output_type": "stream",
          "text": [
            "/usr/local/lib/python3.7/dist-packages/torchvision/datasets/mnist.py:502: UserWarning: The given NumPy array is not writeable, and PyTorch does not support non-writeable tensors. This means you can write to the underlying (supposedly non-writeable) NumPy array using the tensor. You may want to copy the array to protect its data or make it writeable before converting it to a tensor. This type of warning will be suppressed for the rest of this program. (Triggered internally at  /pytorch/torch/csrc/utils/tensor_numpy.cpp:143.)\n",
            "  return torch.from_numpy(parsed.astype(m[2], copy=False)).view(*s)\n"
          ],
          "name": "stderr"
        }
      ]
    },
    {
      "cell_type": "code",
      "metadata": {
        "id": "_5Mw8QrUVFSg"
      },
      "source": [
        "# Model for MNIST Digit classification and ADDER classification\n",
        "# Input1 : 28x28 digit image to cov layer 1\n",
        "# Input 2 : One-hot encoding of digit 0-9\n",
        "# Output 1 : MNIST image digit classification\n",
        "# Output 2 : Retrun SUM of MINIT Digit and Input2 digit\n",
        "\n",
        "class Network(nn.Module):\n",
        "  def __init__(self):\n",
        "    super().__init__()\n",
        "    # These act as attributes\n",
        "    self.conv1 = nn.Conv2d(in_channels=1, out_channels=6, kernel_size=5) \n",
        "    self.conv2 = nn.Conv2d(in_channels=6, out_channels=12, kernel_size=5)\n",
        "\n",
        "    self.fc1 = nn.Linear(in_features=(12*4*4) + 10, out_features=120)\n",
        "    self.fc2 = nn.Linear(in_features=120, out_features=60)\n",
        "    self.out1 = nn.Linear(in_features=60, out_features=10)\n",
        "    self.out2 = nn.Linear(in_features=60, out_features=19)\n",
        "\n",
        "  def forward(self, t, d):\n",
        "\n",
        "    #(1) input layer : not necessary to write- just for understanding purpose\n",
        "    t = t\n",
        "\n",
        "    #(2) hidden conv1 layer\n",
        "    t = self.conv1(t)\n",
        "    t = F.relu(t)\n",
        "    t = F.max_pool2d(t, kernel_size=2, stride=2)\n",
        "\n",
        "    #(3) hidden conv2 layer\n",
        "    t = self.conv2(t)\n",
        "    t = F.relu(t)\n",
        "    t = F.max_pool2d(t, kernel_size=2, stride=2)\n",
        "\n",
        "    #(4) hidden fc1 linear layer\n",
        "    t = t.reshape(-1, 12*4*4)\n",
        "    # Concatenating one hot encoding of input2 digit to FC layer\n",
        "    t = torch.cat((t, d), dim=1) \n",
        "    t = self.fc1(t)\n",
        "    t = F.relu(t)\n",
        "\n",
        "    #(5) hidden fc2 linear layer\n",
        "    t = self.fc2(t)\n",
        "    t = F.relu(t)\n",
        "\n",
        "    #(6) output linear layer\n",
        "    t1 = self.out1(t)\n",
        "    t2 = self.out2(t)\n",
        "\n",
        "    return t1, t2"
      ],
      "execution_count": 8,
      "outputs": []
    },
    {
      "cell_type": "code",
      "metadata": {
        "id": "LNkjXQ_RVMDK"
      },
      "source": [
        "# Can write more on Decision on these params\n",
        "num_epoch = 50 # number of times to iterate on complete dataset\n",
        "batch_size = 100 # subset or records to fetch at once\n",
        "learning_rate = 0.005 # Can be played around with for better"
      ],
      "execution_count": 9,
      "outputs": []
    },
    {
      "cell_type": "code",
      "metadata": {
        "colab": {
          "base_uri": "https://localhost:8080/"
        },
        "id": "RNjkBy9zVM2J",
        "outputId": "8d4d678f-85e2-43ec-c84f-70e6873f752d"
      },
      "source": [
        "network = Network().to(device)\n",
        "print(network)"
      ],
      "execution_count": 10,
      "outputs": [
        {
          "output_type": "stream",
          "text": [
            "Network(\n",
            "  (conv1): Conv2d(1, 6, kernel_size=(5, 5), stride=(1, 1))\n",
            "  (conv2): Conv2d(6, 12, kernel_size=(5, 5), stride=(1, 1))\n",
            "  (fc1): Linear(in_features=202, out_features=120, bias=True)\n",
            "  (fc2): Linear(in_features=120, out_features=60, bias=True)\n",
            "  (out1): Linear(in_features=60, out_features=10, bias=True)\n",
            "  (out2): Linear(in_features=60, out_features=19, bias=True)\n",
            ")\n"
          ],
          "name": "stdout"
        }
      ]
    },
    {
      "cell_type": "code",
      "metadata": {
        "colab": {
          "base_uri": "https://localhost:8080/"
        },
        "id": "W71PKA1kVS1l",
        "outputId": "982c33f9-fc83-4665-911b-9eb09e3b769f"
      },
      "source": [
        "train_loader = torch.utils.data.DataLoader(train_set, batch_size = batch_size) # for training iter\n",
        "test_loader = torch.utils.data.DataLoader(test_set, batch_size = batch_size) # for testing post each epoch\n",
        "optimiser = optim.Adam(network.parameters(), lr=learning_rate)\n",
        "\n",
        "# metrics to capture as we train for multiple epochs : understand where are losses more, when it becomes flat, when to stop/ needs fixes\n",
        "train_loss = []\n",
        "train_lossMNIST = []\n",
        "train_lossADDER = []\n",
        "\n",
        "train_accMNIST = []\n",
        "train_accADDER =[]\n",
        "\n",
        "test_accMNIST = []\n",
        "test_accADDER = []\n",
        "\n",
        "for epoch in range(num_epoch):\n",
        "\n",
        "  lossMNIST = 0\n",
        "  lossADDER = 0\n",
        "\n",
        "  accMNIST = 0\n",
        "  accADDER = 0\n",
        "  \n",
        "  for batch in train_loader:\n",
        "    images, labels = batch \n",
        "    images = images.to(device)\n",
        "    labels = labels.to(device)\n",
        "\n",
        "    # Random digits generated\n",
        "    digits = torch.randint(0, 10, (batch_size,)) # batch_size rand ints\n",
        "    digits_one = F.one_hot(digits, num_classes=10) # one hot encoding\n",
        "    digits_one = digits_one.to(device)\n",
        "    digits = digits.to(device)\n",
        "    #digits = digits.unsqueeze(dim=1)\n",
        "\n",
        "    preds1, preds2 = network(images, digits_one) # Pass Batch\n",
        "    loss1 = F.cross_entropy(preds1, labels) # Calculate Loss\n",
        "    loss2 = F.cross_entropy(preds2, digits + labels) # Calculate Loss\n",
        "\n",
        "    loss = loss1 + loss2\n",
        "\n",
        "    optimiser.zero_grad()\n",
        "    loss.backward() #Calculating Gradients\n",
        "    optimiser.step() # Updating the weights\n",
        "\n",
        "    lossMNIST += loss1.item()\n",
        "    lossADDER += loss2.item()\n",
        "\n",
        "    accMNIST += get_correct(preds1, labels)\n",
        "    accADDER += get_correct(preds2, digits+labels)\n",
        "\n",
        "  train_loss.append(lossMNIST + lossADDER)\n",
        "  train_lossMNIST.append(lossMNIST)\n",
        "  train_lossADDER.append(lossADDER)\n",
        "\n",
        "  train_accMNIST.append((accMNIST/len(train_set))*100)\n",
        "  train_accADDER.append((accADDER/len(train_set))*100)\n",
        "  \n",
        "  print('epoch:', epoch, 'Train: Loss MNIST', lossMNIST, '; Loss Adder: ', lossADDER)\n",
        "\n",
        "  accMNIST = 0\n",
        "  accADDER = 0\n",
        "  # Predicting on test data -----------\n",
        "  for batch in test_loader:\n",
        "    images, labels = batch\n",
        "    images = images.to(device)\n",
        "    labels = labels.to(device)\n",
        "\n",
        "    # Random digits generated\n",
        "    digits = torch.randint(0, 10, (batch_size,)) # batch_size rand ints\n",
        "    digits_one = F.one_hot(digits, num_classes=10) # one hot encoding 0-9 : 10 different values : *could improvised here*\n",
        "    digits_one = digits_one.to(device)\n",
        "    digits = digits.to(device)\n",
        "\n",
        "    # Do predictions\n",
        "    preds1, preds2 = network(images, digits_one)\n",
        "\n",
        "    accMNIST += get_correct(preds1, labels)\n",
        "    accADDER += get_correct(preds2, digits+labels)\n",
        "\n",
        "  test_accMNIST.append((accMNIST/len(test_set))*100)\n",
        "  test_accADDER.append((accADDER/len(test_set))*100)\n",
        "\n",
        "  print('epoch:', epoch, 'test: Accuracy MNIST', accMNIST/len(test_set), '; Accuracy Adder: ', accADDER/len(test_set) )"
      ],
      "execution_count": 11,
      "outputs": [
        {
          "output_type": "stream",
          "text": [
            "epoch: 0 Train: Loss MNIST 177.6698213312775 ; Loss Adder:  931.55777554214\n",
            "epoch: 0 test: Accuracy MNIST 0.9568 ; Accuracy Adder:  0.9175\n",
            "epoch: 1 Train: Loss MNIST 60.07009452988859 ; Loss Adder:  108.7903512949124\n",
            "epoch: 1 test: Accuracy MNIST 0.9804 ; Accuracy Adder:  0.9694\n",
            "epoch: 2 Train: Loss MNIST 44.41233837022446 ; Loss Adder:  61.52178240381181\n",
            "epoch: 2 test: Accuracy MNIST 0.9818 ; Accuracy Adder:  0.9781\n",
            "epoch: 3 Train: Loss MNIST 36.9115229168674 ; Loss Adder:  50.2233901633881\n",
            "epoch: 3 test: Accuracy MNIST 0.9852 ; Accuracy Adder:  0.9817\n",
            "epoch: 4 Train: Loss MNIST 33.387544514931506 ; Loss Adder:  45.47076621535234\n",
            "epoch: 4 test: Accuracy MNIST 0.9794 ; Accuracy Adder:  0.9784\n",
            "epoch: 5 Train: Loss MNIST 30.7285102558817 ; Loss Adder:  40.975391787011176\n",
            "epoch: 5 test: Accuracy MNIST 0.9813 ; Accuracy Adder:  0.9796\n",
            "epoch: 6 Train: Loss MNIST 28.802567418970284 ; Loss Adder:  38.524760568514466\n",
            "epoch: 6 test: Accuracy MNIST 0.982 ; Accuracy Adder:  0.9795\n",
            "epoch: 7 Train: Loss MNIST 27.253703600414156 ; Loss Adder:  36.60583095345646\n",
            "epoch: 7 test: Accuracy MNIST 0.9833 ; Accuracy Adder:  0.9803\n",
            "epoch: 8 Train: Loss MNIST 24.944533546775347 ; Loss Adder:  33.59058916021604\n",
            "epoch: 8 test: Accuracy MNIST 0.9817 ; Accuracy Adder:  0.9826\n",
            "epoch: 9 Train: Loss MNIST 24.583559881350084 ; Loss Adder:  33.88277993502561\n",
            "epoch: 9 test: Accuracy MNIST 0.9817 ; Accuracy Adder:  0.9799\n",
            "epoch: 10 Train: Loss MNIST 22.87098662090284 ; Loss Adder:  31.066647390602157\n",
            "epoch: 10 test: Accuracy MNIST 0.9848 ; Accuracy Adder:  0.9839\n",
            "epoch: 11 Train: Loss MNIST 22.93481803447503 ; Loss Adder:  31.304308887338266\n",
            "epoch: 11 test: Accuracy MNIST 0.9838 ; Accuracy Adder:  0.982\n",
            "epoch: 12 Train: Loss MNIST 21.8771543803814 ; Loss Adder:  29.49894354690332\n",
            "epoch: 12 test: Accuracy MNIST 0.9855 ; Accuracy Adder:  0.9839\n",
            "epoch: 13 Train: Loss MNIST 21.106571694806917 ; Loss Adder:  28.99131011829013\n",
            "epoch: 13 test: Accuracy MNIST 0.986 ; Accuracy Adder:  0.9832\n",
            "epoch: 14 Train: Loss MNIST 20.50012544913261 ; Loss Adder:  28.53358569073316\n",
            "epoch: 14 test: Accuracy MNIST 0.9815 ; Accuracy Adder:  0.9795\n",
            "epoch: 15 Train: Loss MNIST 19.16767662165512 ; Loss Adder:  26.02721201564418\n",
            "epoch: 15 test: Accuracy MNIST 0.984 ; Accuracy Adder:  0.9824\n",
            "epoch: 16 Train: Loss MNIST 17.723552807980013 ; Loss Adder:  23.171765420673182\n",
            "epoch: 16 test: Accuracy MNIST 0.9856 ; Accuracy Adder:  0.9845\n",
            "epoch: 17 Train: Loss MNIST 18.35038269168399 ; Loss Adder:  26.20005976324319\n",
            "epoch: 17 test: Accuracy MNIST 0.9835 ; Accuracy Adder:  0.9826\n",
            "epoch: 18 Train: Loss MNIST 18.313532151158142 ; Loss Adder:  25.823233120667282\n",
            "epoch: 18 test: Accuracy MNIST 0.9816 ; Accuracy Adder:  0.9818\n",
            "epoch: 19 Train: Loss MNIST 18.82207998296508 ; Loss Adder:  25.42433063612407\n",
            "epoch: 19 test: Accuracy MNIST 0.9831 ; Accuracy Adder:  0.9798\n",
            "epoch: 20 Train: Loss MNIST 15.087602684274316 ; Loss Adder:  21.047093111475988\n",
            "epoch: 20 test: Accuracy MNIST 0.9837 ; Accuracy Adder:  0.981\n",
            "epoch: 21 Train: Loss MNIST 15.505780811290606 ; Loss Adder:  22.31830949090363\n",
            "epoch: 21 test: Accuracy MNIST 0.9836 ; Accuracy Adder:  0.9803\n",
            "epoch: 22 Train: Loss MNIST 16.05575427880831 ; Loss Adder:  23.436984235348064\n",
            "epoch: 22 test: Accuracy MNIST 0.9846 ; Accuracy Adder:  0.9823\n",
            "epoch: 23 Train: Loss MNIST 15.90594437812797 ; Loss Adder:  21.82375279722328\n",
            "epoch: 23 test: Accuracy MNIST 0.9822 ; Accuracy Adder:  0.981\n",
            "epoch: 24 Train: Loss MNIST 16.119978393468273 ; Loss Adder:  22.582993157826422\n",
            "epoch: 24 test: Accuracy MNIST 0.9852 ; Accuracy Adder:  0.9852\n",
            "epoch: 25 Train: Loss MNIST 12.475328489033473 ; Loss Adder:  17.928866734586336\n",
            "epoch: 25 test: Accuracy MNIST 0.9862 ; Accuracy Adder:  0.9844\n",
            "epoch: 26 Train: Loss MNIST 13.964842649338607 ; Loss Adder:  19.66634329607041\n",
            "epoch: 26 test: Accuracy MNIST 0.9849 ; Accuracy Adder:  0.9835\n",
            "epoch: 27 Train: Loss MNIST 12.191463544873386 ; Loss Adder:  16.96283544658945\n",
            "epoch: 27 test: Accuracy MNIST 0.9837 ; Accuracy Adder:  0.9806\n",
            "epoch: 28 Train: Loss MNIST 13.77696835122515 ; Loss Adder:  19.001284922665945\n",
            "epoch: 28 test: Accuracy MNIST 0.9839 ; Accuracy Adder:  0.9819\n",
            "epoch: 29 Train: Loss MNIST 12.941001163315377 ; Loss Adder:  17.38418681092844\n",
            "epoch: 29 test: Accuracy MNIST 0.9843 ; Accuracy Adder:  0.9838\n",
            "epoch: 30 Train: Loss MNIST 14.926880391281202 ; Loss Adder:  20.35923088187519\n",
            "epoch: 30 test: Accuracy MNIST 0.9852 ; Accuracy Adder:  0.983\n",
            "epoch: 31 Train: Loss MNIST 11.875733708764642 ; Loss Adder:  16.45212252152419\n",
            "epoch: 31 test: Accuracy MNIST 0.9862 ; Accuracy Adder:  0.985\n",
            "epoch: 32 Train: Loss MNIST 13.509390051775881 ; Loss Adder:  18.147051713745896\n",
            "epoch: 32 test: Accuracy MNIST 0.9822 ; Accuracy Adder:  0.9822\n",
            "epoch: 33 Train: Loss MNIST 18.66820609361457 ; Loss Adder:  24.95284423269186\n",
            "epoch: 33 test: Accuracy MNIST 0.987 ; Accuracy Adder:  0.9834\n",
            "epoch: 34 Train: Loss MNIST 10.736901680513313 ; Loss Adder:  15.067534738421273\n",
            "epoch: 34 test: Accuracy MNIST 0.9877 ; Accuracy Adder:  0.9865\n",
            "epoch: 35 Train: Loss MNIST 10.821570301615878 ; Loss Adder:  15.476023126919245\n",
            "epoch: 35 test: Accuracy MNIST 0.9838 ; Accuracy Adder:  0.9827\n",
            "epoch: 36 Train: Loss MNIST 10.532673738759954 ; Loss Adder:  14.821023077441168\n",
            "epoch: 36 test: Accuracy MNIST 0.9828 ; Accuracy Adder:  0.9829\n",
            "epoch: 37 Train: Loss MNIST 10.770136692665801 ; Loss Adder:  14.731621385180915\n",
            "epoch: 37 test: Accuracy MNIST 0.9827 ; Accuracy Adder:  0.981\n",
            "epoch: 38 Train: Loss MNIST 12.902175362517028 ; Loss Adder:  18.75899324949569\n",
            "epoch: 38 test: Accuracy MNIST 0.9874 ; Accuracy Adder:  0.9847\n",
            "epoch: 39 Train: Loss MNIST 9.605499504901019 ; Loss Adder:  14.299896436349172\n",
            "epoch: 39 test: Accuracy MNIST 0.9843 ; Accuracy Adder:  0.9847\n",
            "epoch: 40 Train: Loss MNIST 11.88793085717657 ; Loss Adder:  15.535370107582821\n",
            "epoch: 40 test: Accuracy MNIST 0.9844 ; Accuracy Adder:  0.9833\n",
            "epoch: 41 Train: Loss MNIST 10.841767371700143 ; Loss Adder:  15.054341537786968\n",
            "epoch: 41 test: Accuracy MNIST 0.9854 ; Accuracy Adder:  0.9834\n",
            "epoch: 42 Train: Loss MNIST 14.68341845411669 ; Loss Adder:  20.185303849734737\n",
            "epoch: 42 test: Accuracy MNIST 0.9846 ; Accuracy Adder:  0.9822\n",
            "epoch: 43 Train: Loss MNIST 10.787717626217898 ; Loss Adder:  15.119606338931021\n",
            "epoch: 43 test: Accuracy MNIST 0.9853 ; Accuracy Adder:  0.985\n",
            "epoch: 44 Train: Loss MNIST 11.743852221777274 ; Loss Adder:  15.93984092069968\n",
            "epoch: 44 test: Accuracy MNIST 0.9862 ; Accuracy Adder:  0.9848\n",
            "epoch: 45 Train: Loss MNIST 11.11544922922684 ; Loss Adder:  15.05538536140557\n",
            "epoch: 45 test: Accuracy MNIST 0.9867 ; Accuracy Adder:  0.9859\n",
            "epoch: 46 Train: Loss MNIST 7.429911724381686 ; Loss Adder:  10.365423989136616\n",
            "epoch: 46 test: Accuracy MNIST 0.9864 ; Accuracy Adder:  0.9852\n",
            "epoch: 47 Train: Loss MNIST 11.630908755161158 ; Loss Adder:  16.801842851807123\n",
            "epoch: 47 test: Accuracy MNIST 0.9828 ; Accuracy Adder:  0.9818\n",
            "epoch: 48 Train: Loss MNIST 13.297750487689427 ; Loss Adder:  18.18733695625542\n",
            "epoch: 48 test: Accuracy MNIST 0.9851 ; Accuracy Adder:  0.9844\n",
            "epoch: 49 Train: Loss MNIST 10.472540385562638 ; Loss Adder:  14.23290657359712\n",
            "epoch: 49 test: Accuracy MNIST 0.9875 ; Accuracy Adder:  0.9837\n"
          ],
          "name": "stdout"
        }
      ]
    },
    {
      "cell_type": "code",
      "metadata": {
        "colab": {
          "base_uri": "https://localhost:8080/",
          "height": 573
        },
        "id": "wT60IojwVb4C",
        "outputId": "4d9faddd-fd79-4865-ea81-e61106b377e0"
      },
      "source": [
        "\n",
        "# Plotting metrics to see how model as learned and loss decreased\n",
        "import matplotlib.pyplot as plt\n",
        "\n",
        "plt.plot(range(epoch+1), train_loss, marker='o')\n",
        "plt.plot(range(epoch+1), train_lossMNIST, marker = 'x')\n",
        "plt.plot(range(epoch+1), train_lossADDER, marker = 'd')\n",
        "plt.xlabel(\"Epoch\")\n",
        "plt.ylabel(\"Loss\")\n",
        "plt.legend([\"Total Loss\", \"MNIST Loss\", \"ADDER Loss\"])\n",
        "plt.title(\"Train Loss\")\n",
        "#plt.ylim([0,100])\n",
        "plt.show()\n",
        "\n",
        "plt.plot(range(epoch+1), train_accMNIST, linestyle='dashed')\n",
        "plt.plot(range(epoch+1), test_accMNIST, marker = 'x')\n",
        "plt.plot(range(epoch+1), train_accADDER, linestyle='dashed')\n",
        "plt.plot(range(epoch+1), test_accADDER, marker = 'd')\n",
        "plt.xlabel(\"Epoch\")\n",
        "plt.ylabel(\"Accuracy\")\n",
        "plt.legend([\"Train MNIST ACC\", \"Test MNIST ACC\", \"Train ADDER Acc\", \"Test ADDER ACC\"])\n",
        "plt.title(\"Accuracy\")\n",
        "plt.ylim([50,100])\n",
        "plt.show()"
      ],
      "execution_count": 12,
      "outputs": [
        {
          "output_type": "display_data",
          "data": {
            "image/png": "[encoded data removed]",
            "text/plain": [
              "<Figure size 432x288 with 1 Axes>"
            ]
          },
          "metadata": {
            "tags": [],
            "needs_background": "light"
          }
        },
        {
          "output_type": "display_data",
          "data": {
            "image/png": "[encoded data removed]",
            "text/plain": [
              "<Figure size 432x288 with 1 Axes>"
            ]
          },
          "metadata": {
            "tags": [],
            "needs_background": "light"
          }
        }
      ]
    },
    {
      "cell_type": "markdown",
      "metadata": {
        "id": "Eb5PsT7RVjR7"
      },
      "source": [
        "#Functions to plot Classifications and show examples results\n",
        "#There could be 4 combinations -\n",
        "\n",
        "Correct Image Class & Correct Addition\n",
        "\n",
        "Correct Image Class & Wrong Addition\n",
        "\n",
        "Wrong Image Class & Correct Addition\n",
        "\n",
        "Wrong Image Class & Wrong Addition"
      ]
    },
    {
      "cell_type": "code",
      "metadata": {
        "id": "ZUFzwhrrVvrX"
      },
      "source": [
        "def correct_idx(a_c, p_c):\n",
        "  correct_idx = p_c.eq(a_c).nonzero(as_tuple=True)\n",
        "  return correct_idx[0]\n",
        "  # print(correct_idx)\n",
        "def wrong_idx(a_c, p_c):\n",
        "  wrong_idx = p_c.ne(a_c).nonzero(as_tuple=True)\n",
        "  return wrong_idx[0]\n",
        "\n",
        "def get_outputs(images,actual_class,pred_class,actual_sum,pred_sum,digits,class_id,sum_id):\n",
        "  imgs = images[class_id][sum_id]\n",
        "  lbls = actual_class[class_id][sum_id]\n",
        "  predict_class = pred_class[class_id][sum_id]\n",
        "  sums = actual_sum[class_id][sum_id]\n",
        "  predict_sums = pred_sum[class_id][sum_id]\n",
        "  rn = digits[class_id][sum_id]\n",
        "  return imgs,lbls,predict_class,sums,predict_sums,rn\n",
        "\n",
        "def show_results(imgs,lbls,predict_class,sums,predict_sums,rn,bgcolor = \"white\", tcolor = \"black\"):\n",
        "  fig = plt.figure(figsize=(14,14), facecolor = bgcolor)\n",
        "  img_count = len(imgs)\n",
        "  if img_count == 0:\n",
        "    print(\"ALl the additions for this batch was correct\")\n",
        "  elif img_count >= 1:\n",
        "    if img_count > 6:\n",
        "      img_count = 6\n",
        "    for i in range(img_count):\n",
        "      plt.subplot(1,img_count,i+1)\n",
        "      # plt.tight_layout()\n",
        "      plt.imshow(imgs[i][0].to(\"cpu\"), cmap='gray', interpolation='none')\n",
        "      plt.title(\"Actual {} + {} = {} \\n Predicted {} + {} = {}\".format(lbls[i],rn[i],sums[i],\n",
        "                                                              predict_class[i],rn[i],predict_sums[i]),\n",
        "                color = tcolor)\n",
        "      plt.xticks([])\n",
        "      plt.yticks([])\n",
        "    plt.show()"
      ],
      "execution_count": 13,
      "outputs": []
    },
    {
      "cell_type": "code",
      "metadata": {
        "colab": {
          "base_uri": "https://localhost:8080/",
          "height": 900
        },
        "id": "8V6aR6y8V0Z2",
        "outputId": "1d2385d2-5cb1-4a6b-efa3-1f0307a94936"
      },
      "source": [
        "# Plotting the results correctly classified and wrongly classifed\n",
        "# for images, labels in train_loader: \n",
        "\n",
        "train_loader = torch.utils.data.DataLoader(train_set, batch_size = 2000)\n",
        "j=1\n",
        "\n",
        "class_all_correct_idx = torch.IntTensor()\n",
        "sum_all_correct_idx = torch.IntTensor()\n",
        "\n",
        "for images, labels in train_loader:\n",
        "  images = images.to(device)\n",
        "  labels = labels.to(device)\n",
        "\n",
        "  # Random digits generated\n",
        "  digits = torch.randint(0, 10, (2000,)) # 100 rand ints\n",
        "  digits_one = F.one_hot(digits, num_classes=10) # one hot encoding\n",
        "  digits_one = digits_one.to(device)\n",
        "  digits = digits.to(device)\n",
        "\n",
        "  # Run the model   \n",
        "  preds_class_prob, preds_sum_prob = network(images, digits_one) # Pass Batch\n",
        "  \n",
        "  pred_class = preds_class_prob.argmax(dim=1)\n",
        "  pred_sum = preds_sum_prob.argmax(dim=1)\n",
        "  actual_class = labels\n",
        "  actual_sum = labels+digits\n",
        "\n",
        "  # Get ID of the correct classification\n",
        "  class_correct_idx = correct_idx(actual_class, pred_class)\n",
        "\n",
        "  #Get IDs for correct additions\n",
        "  sum_correct_idx = correct_idx(actual_sum[class_correct_idx], pred_sum[class_correct_idx])\n",
        "  imgs,lbls,predict_class,sums,predict_sums,rn = get_outputs(images,actual_class,pred_class,actual_sum,pred_sum,digits,class_correct_idx,sum_correct_idx)\n",
        "  print(\"Results for Correct Image class and Correct additions\")\n",
        "  show_results(imgs,lbls,predict_class,sums,predict_sums,rn,\"green\",tcolor = \"white\")\n",
        "\n",
        "  #Get IDs for wrong additions\n",
        "  sum_wrong_idx = wrong_idx(actual_sum[class_correct_idx], pred_sum[class_correct_idx])\n",
        "  imgs,lbls,predict_class,sums,predict_sums,rn = get_outputs(images,actual_class,pred_class,actual_sum,pred_sum,digits,class_correct_idx,sum_wrong_idx)\n",
        "  print(\"Results for Correct Image class and Wrong Additions\")\n",
        "  show_results(imgs,lbls,predict_class,sums,predict_sums,rn,\"yellow\")\n",
        "  # Get ID of the correct classification\n",
        "  class_wrong_idx = wrong_idx(actual_class, pred_class)\n",
        "\n",
        "  #Get IDs for correct additions\n",
        "  sum_correct_idx = correct_idx(actual_sum[class_wrong_idx], pred_sum[class_wrong_idx])\n",
        "  imgs,lbls,predict_class,sums,predict_sums,rn = get_outputs(images,actual_class,pred_class,actual_sum,pred_sum,digits,class_wrong_idx,sum_correct_idx)\n",
        "  print(\"Results for Wrong Image class and Correct additions\")\n",
        "  show_results(imgs,lbls,predict_class,sums,predict_sums,rn,\"orange\")\n",
        "\n",
        "  #Get IDs for wrong additions\n",
        "  sum_wrong_idx = wrong_idx(actual_sum[class_wrong_idx], pred_sum[class_wrong_idx])\n",
        "  imgs,lbls,predict_class,sums,predict_sums,rn = get_outputs(images,actual_class,pred_class,actual_sum,pred_sum,digits,class_wrong_idx,sum_wrong_idx)\n",
        "  print(\"Results for Wrong Image class and Wrong Additions\")\n",
        "  show_results(imgs,lbls,predict_class,sums,predict_sums,rn,\"red\", tcolor = \"white\")\n",
        "\n",
        "  \n",
        "\n",
        "  if j ==1:\n",
        "    break"
      ],
      "execution_count": 14,
      "outputs": [
        {
          "output_type": "stream",
          "text": [
            "Results for Correct Image class and Correct additions\n"
          ],
          "name": "stdout"
        },
        {
          "output_type": "display_data",
          "data": {
            "image/png": "[encoded data removed]",
            "text/plain": [
              "<Figure size 1008x1008 with 6 Axes>"
            ]
          },
          "metadata": {
            "tags": []
          }
        },
        {
          "output_type": "stream",
          "text": [
            "Results for Correct Image class and Wrong Additions\n"
          ],
          "name": "stdout"
        },
        {
          "output_type": "display_data",
          "data": {
            "image/png": "[encoded data removed]",
            "text/plain": [
              "<Figure size 1008x1008 with 6 Axes>"
            ]
          },
          "metadata": {
            "tags": []
          }
        },
        {
          "output_type": "stream",
          "text": [
            "Results for Wrong Image class and Correct additions\n"
          ],
          "name": "stdout"
        },
        {
          "output_type": "display_data",
          "data": {
            "image/png": "[encoded data removed]",
            "text/plain": [
              "<Figure size 1008x1008 with 4 Axes>"
            ]
          },
          "metadata": {
            "tags": []
          }
        },
        {
          "output_type": "stream",
          "text": [
            "Results for Wrong Image class and Wrong Additions\n"
          ],
          "name": "stdout"
        },
        {
          "output_type": "display_data",
          "data": {
            "image/png": "[encoded data removed]",
            "text/plain": [
              "<Figure size 1008x1008 with 3 Axes>"
            ]
          },
          "metadata": {
            "tags": []
          }
        }
      ]
    }
  ]
}