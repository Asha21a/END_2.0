{
  "nbformat": 4,
  "nbformat_minor": 0,
  "metadata": {
    "colab": {
      "name": "Capstone-stackoverflowQA.ipynb",
      "provenance": []
    },
    "kernelspec": {
      "name": "python3",
      "display_name": "Python 3"
    },
    "language_info": {
      "name": "python"
    },
    "accelerator": "GPU"
  },
  "cells": [
    {
      "cell_type": "markdown",
      "metadata": {
        "id": "YdhfaRy9-NIO"
      },
      "source": [
        "# Installing Stackoverflow API"
      ]
    },
    {
      "cell_type": "code",
      "metadata": {
        "colab": {
          "base_uri": "https://localhost:8080/"
        },
        "id": "J4MyXAhU-MPO",
        "outputId": "554446bf-0a8a-4d72-dc4e-4d59715840a3"
      },
      "source": [
        "pip install StackAPI"
      ],
      "execution_count": 2,
      "outputs": [
        {
          "output_type": "stream",
          "text": [
            "Requirement already satisfied: StackAPI in /usr/local/lib/python3.7/dist-packages (0.2.0)\n",
            "Requirement already satisfied: six in /usr/local/lib/python3.7/dist-packages (from StackAPI) (1.15.0)\n",
            "Requirement already satisfied: requests in /usr/local/lib/python3.7/dist-packages (from StackAPI) (2.23.0)\n",
            "Requirement already satisfied: idna<3,>=2.5 in /usr/local/lib/python3.7/dist-packages (from requests->StackAPI) (2.10)\n",
            "Requirement already satisfied: urllib3!=1.25.0,!=1.25.1,<1.26,>=1.21.1 in /usr/local/lib/python3.7/dist-packages (from requests->StackAPI) (1.24.3)\n",
            "Requirement already satisfied: chardet<4,>=3.0.2 in /usr/local/lib/python3.7/dist-packages (from requests->StackAPI) (3.0.4)\n",
            "Requirement already satisfied: certifi>=2017.4.17 in /usr/local/lib/python3.7/dist-packages (from requests->StackAPI) (2021.5.30)\n"
          ],
          "name": "stdout"
        }
      ]
    },
    {
      "cell_type": "markdown",
      "metadata": {
        "id": "yi0328dB-qB7"
      },
      "source": [
        "# Imporing Modules"
      ]
    },
    {
      "cell_type": "code",
      "metadata": {
        "id": "HF0daRe7-htj"
      },
      "source": [
        "from stackapi import StackAPI\n",
        "from datetime import datetime\n",
        "import pandas as pd"
      ],
      "execution_count": 3,
      "outputs": []
    },
    {
      "cell_type": "markdown",
      "metadata": {
        "id": "2kAIfaFl-wyI"
      },
      "source": [
        "# Settings of Stackoverflow api"
      ]
    },
    {
      "cell_type": "code",
      "metadata": {
        "id": "G_g8-4y3-3nr"
      },
      "source": [
        "SITE = StackAPI('stackoverflow')\n",
        "SITE.page_size = 100  # Fetch 100 results per page, means less hits to stackoverflow api\n",
        "SITE.max_pages = 500  # Maximum 300 pages can be fetched according to quota"
      ],
      "execution_count": 4,
      "outputs": []
    },
    {
      "cell_type": "markdown",
      "metadata": {
        "id": "5vNuSYjc-njG"
      },
      "source": [
        "# All Questions tagged to pytorch in Stackoverflow"
      ]
    },
    {
      "cell_type": "code",
      "metadata": {
        "colab": {
          "base_uri": "https://localhost:8080/"
        },
        "id": "OhxPnh9S-_vy",
        "outputId": "311b0738-7687-45af-acc0-1f767539c194"
      },
      "source": [
        "questions = SITE.fetch('questions', tagged='pytorch')\n",
        "len(questions['items'])"
      ],
      "execution_count": 5,
      "outputs": [
        {
          "output_type": "execute_result",
          "data": {
            "text/plain": [
              "13599"
            ]
          },
          "metadata": {},
          "execution_count": 5
        }
      ]
    },
    {
      "cell_type": "markdown",
      "metadata": {
        "id": "BiFnvyBv_Cpa"
      },
      "source": [
        "# Using Pandas Dataframe to store the data.\n",
        "Storing the data based on all questions and answered questions in pytorch tagged to stackoverflow."
      ]
    },
    {
      "cell_type": "code",
      "metadata": {
        "id": "ATB8bQSz_KUK"
      },
      "source": [
        "Stackoverflow_questions_pytorch = pd.DataFrame.from_records(questions['items'])\n",
        "# Stackoverflow_questions_pytorch[Stackoverflow_questions_pytorch['is_answered']==True].shape\n",
        "Stackoverflow_questions_pytorch.to_excel('Pytorch_questions_stackoverflow.xlsx', index=False)\n",
        "Stackoverflow_questions_pytorch[Stackoverflow_questions_pytorch['is_answered']==True].to_excel('Answered_Pytorch_questions_stackoverflow.xlsx', index=False)"
      ],
      "execution_count": null,
      "outputs": []
    },
    {
      "cell_type": "markdown",
      "metadata": {
        "id": "jBK0Yys1_PeK"
      },
      "source": [
        "# Reading Data to fetch the question body from the data"
      ]
    },
    {
      "cell_type": "code",
      "metadata": {
        "id": "q3iO4Ea__VhB"
      },
      "source": [
        "questions = pd.read_excel('/content/Answered_Pytorch_questions_stackoverflow.xlsx')"
      ],
      "execution_count": null,
      "outputs": []
    },
    {
      "cell_type": "code",
      "metadata": {
        "id": "jWlwPQZK_ZHE"
      },
      "source": [
        "question_ids = questions['question_id'].to_list()"
      ],
      "execution_count": null,
      "outputs": []
    },
    {
      "cell_type": "markdown",
      "metadata": {
        "id": "B6CiVyf4_cLY"
      },
      "source": [
        "Loop to fetch the data and store it in question_body_dataframe"
      ]
    },
    {
      "cell_type": "code",
      "metadata": {
        "id": "mvJNA-_U_faQ"
      },
      "source": [
        "questions_body_dataframe = pd.DataFrame()\n",
        "for i in range(0, int(len(question_ids)/100)):\n",
        "  questions_body = SITE.fetch('questions/{ids}', ids=question_ids[100*i:100*i+100], filter='withbody')\n",
        "  questions_body_dataframe = questions_body_dataframe.append(pd.DataFrame.from_records(questions_body['items'], columns=['question_id', 'body']), ignore_index=True)"
      ],
      "execution_count": null,
      "outputs": []
    },
    {
      "cell_type": "markdown",
      "metadata": {
        "id": "mJlamSWK_ioO"
      },
      "source": [
        "Fetching the remaining left"
      ]
    },
    {
      "cell_type": "code",
      "metadata": {
        "id": "TfsssAd__lcx"
      },
      "source": [
        "i=i+1\n",
        "questions_body = SITE.fetch('questions/{ids}', ids=question_ids[100*i:], filter='withbody')\n",
        "questions_body_dataframe = questions_body_dataframe.append(pd.DataFrame.from_records(questions_body['items'], columns=['question_id', 'body']), ignore_index=True)"
      ],
      "execution_count": null,
      "outputs": []
    },
    {
      "cell_type": "markdown",
      "metadata": {
        "id": "2oOS7NUQ_oKc"
      },
      "source": [
        "Merging with already read dataframe"
      ]
    },
    {
      "cell_type": "code",
      "metadata": {
        "id": "pPTjZ4O8_qvw"
      },
      "source": [
        "questions_body_dataframe.rename(columns={'body':'question_body'}, inplace=True)\n",
        "questions = questions.merge(questions_body_dataframe, on = ['question_id'], how='inner')"
      ],
      "execution_count": null,
      "outputs": []
    },
    {
      "cell_type": "markdown",
      "metadata": {
        "id": "gi9LX95W_ugu"
      },
      "source": [
        "Writing back the same file"
      ]
    },
    {
      "cell_type": "code",
      "metadata": {
        "id": "tDnVXutR_yHD"
      },
      "source": [
        "questions.to_excel('Answered_Pytorch_questions_stackoverflow_with_body.xlsx', index=False)"
      ],
      "execution_count": null,
      "outputs": []
    },
    {
      "cell_type": "markdown",
      "metadata": {
        "id": "Ifoyc_Qa_2oT"
      },
      "source": [
        "# Fetching the Answers body from Stackoverflow Api"
      ]
    },
    {
      "cell_type": "code",
      "metadata": {
        "id": "htOdQ8Cb_3wP"
      },
      "source": [
        "answers_body_dataframe = pd.DataFrame()\n",
        "for i in range(0, int(len(question_ids)/100)):\n",
        "  answer_body = SITE.fetch('questions/{ids}/answers', ids=question_ids[100*i:100*i+100], filter='withbody')\n",
        "  answers_body_dataframe = answers_body_dataframe.append(pd.DataFrame.from_records(answer_body['items']), ignore_index=True)"
      ],
      "execution_count": null,
      "outputs": []
    },
    {
      "cell_type": "markdown",
      "metadata": {
        "id": "vT8Qq8Ve_6uf"
      },
      "source": [
        "Fetching the remaining left"
      ]
    },
    {
      "cell_type": "code",
      "metadata": {
        "id": "fGr7b9EZ_9dC"
      },
      "source": [
        "i = i+1\n",
        "answer_body = SITE.fetch('questions/{ids}', ids=question_ids[100*i:100*i+100], filter='withbody')\n",
        "answers_body_dataframe = answers_body_dataframe.append(pd.DataFrame.from_records(answer_body['items']), ignore_index=True)"
      ],
      "execution_count": null,
      "outputs": []
    },
    {
      "cell_type": "markdown",
      "metadata": {
        "id": "tV9JLWzAAAmV"
      },
      "source": [
        "Checking the size of answered question"
      ]
    },
    {
      "cell_type": "code",
      "metadata": {
        "id": "uS8ZlnL4ACwx"
      },
      "source": [
        "len(answers_body_dataframe['question_id'].unique())"
      ],
      "execution_count": null,
      "outputs": []
    },
    {
      "cell_type": "markdown",
      "metadata": {
        "id": "2D1oMKzMAFhD"
      },
      "source": [
        "Storing back to pandas excel file"
      ]
    },
    {
      "cell_type": "code",
      "metadata": {
        "id": "-JG2H0u5AIBV"
      },
      "source": [
        "pip install xlsxwriter"
      ],
      "execution_count": null,
      "outputs": []
    },
    {
      "cell_type": "code",
      "metadata": {
        "id": "U7XL2lfKARzN"
      },
      "source": [
        "answers_body_dataframe.to_excel('Answered_Pytorch_answers_stackoverflow_with_body.xlsx', index=False, engine='xlsxwriter')"
      ],
      "execution_count": null,
      "outputs": []
    },
    {
      "cell_type": "markdown",
      "metadata": {
        "id": "2PTH1UmyAUcJ"
      },
      "source": [
        "# Samples"
      ]
    },
    {
      "cell_type": "code",
      "metadata": {
        "id": "g0MDDJCdAVgX"
      },
      "source": [
        "from pprint import pprint\n",
        "\n",
        "pprint(SITE.fetch('questions/{ids}', ids=[64837376, 55126493], filter='withbody'))\n",
        "pprint(SITE.fetch('questions/{ids}/answers', ids=[64837376], filter='withbody'))"
      ],
      "execution_count": null,
      "outputs": []
    }
  ]
}