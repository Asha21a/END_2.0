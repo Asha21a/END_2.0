{
  "nbformat": 4,
  "nbformat_minor": 0,
  "metadata": {
    "colab": {
      "name": "Converexceltojson.ipynb",
      "provenance": [],
      "collapsed_sections": []
    },
    "kernelspec": {
      "name": "python3",
      "display_name": "Python 3"
    },
    "language_info": {
      "name": "python"
    }
  },
  "cells": [
    {
      "cell_type": "code",
      "metadata": {
        "id": "adgGRpjoH7Xm"
      },
      "source": [
        "import pandas as pd \n",
        "import json"
      ],
      "execution_count": 1,
      "outputs": []
    },
    {
      "cell_type": "code",
      "metadata": {
        "id": "ic6YIn24IIMH"
      },
      "source": [
        "df = pd.read_excel(\"Combined_annotated_QanA_stackoverflow.xlsx\") \n",
        "result = df.to_json(orient=\"records\")"
      ],
      "execution_count": null,
      "outputs": []
    },
    {
      "cell_type": "code",
      "metadata": {
        "id": "m6HC8gp5IMa2"
      },
      "source": [
        "with open('Stackoverflow_QandA.json', 'w', encoding='utf-8') as f: \n",
        "    json.dump(result, f, ensure_ascii=False, indent=4)"
      ],
      "execution_count": null,
      "outputs": []
    }
  ]
}